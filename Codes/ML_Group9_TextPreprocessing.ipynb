{
 "cells": [
  {
   "cell_type": "code",
   "execution_count": 45,
   "id": "e42fb2ae",
   "metadata": {},
   "outputs": [],
   "source": [
    "import numpy as np\n",
    "import pandas as pd\n",
    "import seaborn as sns\n",
    "import nltk as nl\n",
    "#nl.download('vader_lexicon')\n",
    "import matplotlib.pyplot as plt\n",
    "from nltk.sentiment.vader import SentimentIntensityAnalyzer\n",
    "import string\n",
    "import sys,csv,re"
   ]
  },
  {
   "cell_type": "code",
   "execution_count": 46,
   "id": "76072bed",
   "metadata": {},
   "outputs": [
    {
     "data": {
      "text/html": [
       "<div>\n",
       "<style scoped>\n",
       "    .dataframe tbody tr th:only-of-type {\n",
       "        vertical-align: middle;\n",
       "    }\n",
       "\n",
       "    .dataframe tbody tr th {\n",
       "        vertical-align: top;\n",
       "    }\n",
       "\n",
       "    .dataframe thead th {\n",
       "        text-align: right;\n",
       "    }\n",
       "</style>\n",
       "<table border=\"1\" class=\"dataframe\">\n",
       "  <thead>\n",
       "    <tr style=\"text-align: right;\">\n",
       "      <th></th>\n",
       "      <th>Unnamed: 0</th>\n",
       "      <th>asin</th>\n",
       "      <th>helpful</th>\n",
       "      <th>overall</th>\n",
       "      <th>reviewText</th>\n",
       "      <th>reviewTime</th>\n",
       "      <th>reviewerID</th>\n",
       "      <th>reviewerName</th>\n",
       "      <th>summary</th>\n",
       "      <th>unixReviewTime</th>\n",
       "    </tr>\n",
       "  </thead>\n",
       "  <tbody>\n",
       "    <tr>\n",
       "      <th>0</th>\n",
       "      <td>0</td>\n",
       "      <td>B000F83SZQ</td>\n",
       "      <td>[0, 0]</td>\n",
       "      <td>5</td>\n",
       "      <td>I enjoy vintage books and movies so I enjoyed ...</td>\n",
       "      <td>05 5, 2014</td>\n",
       "      <td>A1F6404F1VG29J</td>\n",
       "      <td>Avidreader</td>\n",
       "      <td>Nice vintage story</td>\n",
       "      <td>1399248000</td>\n",
       "    </tr>\n",
       "    <tr>\n",
       "      <th>1</th>\n",
       "      <td>1</td>\n",
       "      <td>B000F83SZQ</td>\n",
       "      <td>[2, 2]</td>\n",
       "      <td>4</td>\n",
       "      <td>This book is a reissue of an old one; the auth...</td>\n",
       "      <td>01 6, 2014</td>\n",
       "      <td>AN0N05A9LIJEQ</td>\n",
       "      <td>critters</td>\n",
       "      <td>Different...</td>\n",
       "      <td>1388966400</td>\n",
       "    </tr>\n",
       "    <tr>\n",
       "      <th>2</th>\n",
       "      <td>2</td>\n",
       "      <td>B000F83SZQ</td>\n",
       "      <td>[2, 2]</td>\n",
       "      <td>4</td>\n",
       "      <td>This was a fairly interesting read.  It had ol...</td>\n",
       "      <td>04 4, 2014</td>\n",
       "      <td>A795DMNCJILA6</td>\n",
       "      <td>dot</td>\n",
       "      <td>Oldie</td>\n",
       "      <td>1396569600</td>\n",
       "    </tr>\n",
       "    <tr>\n",
       "      <th>3</th>\n",
       "      <td>3</td>\n",
       "      <td>B000F83SZQ</td>\n",
       "      <td>[1, 1]</td>\n",
       "      <td>5</td>\n",
       "      <td>I'd never read any of the Amy Brewster mysteri...</td>\n",
       "      <td>02 19, 2014</td>\n",
       "      <td>A1FV0SX13TWVXQ</td>\n",
       "      <td>Elaine H. Turley \"Montana Songbird\"</td>\n",
       "      <td>I really liked it.</td>\n",
       "      <td>1392768000</td>\n",
       "    </tr>\n",
       "    <tr>\n",
       "      <th>4</th>\n",
       "      <td>4</td>\n",
       "      <td>B000F83SZQ</td>\n",
       "      <td>[0, 1]</td>\n",
       "      <td>4</td>\n",
       "      <td>If you like period pieces - clothing, lingo, y...</td>\n",
       "      <td>03 19, 2014</td>\n",
       "      <td>A3SPTOKDG7WBLN</td>\n",
       "      <td>Father Dowling Fan</td>\n",
       "      <td>Period Mystery</td>\n",
       "      <td>1395187200</td>\n",
       "    </tr>\n",
       "  </tbody>\n",
       "</table>\n",
       "</div>"
      ],
      "text/plain": [
       "   Unnamed: 0        asin helpful  overall  \\\n",
       "0           0  B000F83SZQ  [0, 0]        5   \n",
       "1           1  B000F83SZQ  [2, 2]        4   \n",
       "2           2  B000F83SZQ  [2, 2]        4   \n",
       "3           3  B000F83SZQ  [1, 1]        5   \n",
       "4           4  B000F83SZQ  [0, 1]        4   \n",
       "\n",
       "                                          reviewText   reviewTime  \\\n",
       "0  I enjoy vintage books and movies so I enjoyed ...   05 5, 2014   \n",
       "1  This book is a reissue of an old one; the auth...   01 6, 2014   \n",
       "2  This was a fairly interesting read.  It had ol...   04 4, 2014   \n",
       "3  I'd never read any of the Amy Brewster mysteri...  02 19, 2014   \n",
       "4  If you like period pieces - clothing, lingo, y...  03 19, 2014   \n",
       "\n",
       "       reviewerID                         reviewerName             summary  \\\n",
       "0  A1F6404F1VG29J                           Avidreader  Nice vintage story   \n",
       "1   AN0N05A9LIJEQ                             critters        Different...   \n",
       "2   A795DMNCJILA6                                  dot               Oldie   \n",
       "3  A1FV0SX13TWVXQ  Elaine H. Turley \"Montana Songbird\"  I really liked it.   \n",
       "4  A3SPTOKDG7WBLN                   Father Dowling Fan      Period Mystery   \n",
       "\n",
       "   unixReviewTime  \n",
       "0      1399248000  \n",
       "1      1388966400  \n",
       "2      1396569600  \n",
       "3      1392768000  \n",
       "4      1395187200  "
      ]
     },
     "execution_count": 46,
     "metadata": {},
     "output_type": "execute_result"
    }
   ],
   "source": [
    "data = pd.read_csv(\"kindle_reviews.csv\")\n",
    "\n",
    "data.head()"
   ]
  },
  {
   "cell_type": "code",
   "execution_count": 47,
   "id": "4679b708",
   "metadata": {},
   "outputs": [
    {
     "data": {
      "text/plain": [
       "Unnamed: 0           0\n",
       "asin                 0\n",
       "helpful              0\n",
       "overall              0\n",
       "reviewText          22\n",
       "reviewTime           0\n",
       "reviewerID           0\n",
       "reviewerName      3816\n",
       "summary              1\n",
       "unixReviewTime       0\n",
       "dtype: int64"
      ]
     },
     "execution_count": 47,
     "metadata": {},
     "output_type": "execute_result"
    }
   ],
   "source": [
    "data.isna().sum()"
   ]
  },
  {
   "cell_type": "code",
   "execution_count": 48,
   "id": "ec7e6c93",
   "metadata": {},
   "outputs": [],
   "source": [
    "data['reviewText'] = data['reviewText'] + ' ' + data['summary']\n",
    "del data['summary']"
   ]
  },
  {
   "cell_type": "code",
   "execution_count": 50,
   "id": "781c2149",
   "metadata": {},
   "outputs": [],
   "source": [
    "data['reviewText'].fillna(\"\",inplace = True)"
   ]
  },
  {
   "cell_type": "code",
   "execution_count": 52,
   "id": "36c98819",
   "metadata": {},
   "outputs": [
    {
     "data": {
      "text/plain": [
       "Unnamed: 0           0\n",
       "asin                 0\n",
       "helpful              0\n",
       "overall              0\n",
       "reviewText           0\n",
       "reviewTime           0\n",
       "reviewerID           0\n",
       "reviewerName      3816\n",
       "unixReviewTime       0\n",
       "dtype: int64"
      ]
     },
     "execution_count": 52,
     "metadata": {},
     "output_type": "execute_result"
    }
   ],
   "source": [
    "data.isna().sum()"
   ]
  },
  {
   "cell_type": "code",
   "execution_count": 51,
   "id": "87801326",
   "metadata": {},
   "outputs": [
    {
     "data": {
      "text/html": [
       "<div>\n",
       "<style scoped>\n",
       "    .dataframe tbody tr th:only-of-type {\n",
       "        vertical-align: middle;\n",
       "    }\n",
       "\n",
       "    .dataframe tbody tr th {\n",
       "        vertical-align: top;\n",
       "    }\n",
       "\n",
       "    .dataframe thead th {\n",
       "        text-align: right;\n",
       "    }\n",
       "</style>\n",
       "<table border=\"1\" class=\"dataframe\">\n",
       "  <thead>\n",
       "    <tr style=\"text-align: right;\">\n",
       "      <th></th>\n",
       "      <th>Unnamed: 0</th>\n",
       "      <th>asin</th>\n",
       "      <th>helpful</th>\n",
       "      <th>overall</th>\n",
       "      <th>reviewText</th>\n",
       "      <th>reviewTime</th>\n",
       "      <th>reviewerID</th>\n",
       "      <th>reviewerName</th>\n",
       "      <th>unixReviewTime</th>\n",
       "    </tr>\n",
       "  </thead>\n",
       "  <tbody>\n",
       "    <tr>\n",
       "      <th>0</th>\n",
       "      <td>0</td>\n",
       "      <td>B000F83SZQ</td>\n",
       "      <td>[0, 0]</td>\n",
       "      <td>5</td>\n",
       "      <td>I enjoy vintage books and movies so I enjoyed ...</td>\n",
       "      <td>05 5, 2014</td>\n",
       "      <td>A1F6404F1VG29J</td>\n",
       "      <td>Avidreader</td>\n",
       "      <td>1399248000</td>\n",
       "    </tr>\n",
       "    <tr>\n",
       "      <th>1</th>\n",
       "      <td>1</td>\n",
       "      <td>B000F83SZQ</td>\n",
       "      <td>[2, 2]</td>\n",
       "      <td>4</td>\n",
       "      <td>This book is a reissue of an old one; the auth...</td>\n",
       "      <td>01 6, 2014</td>\n",
       "      <td>AN0N05A9LIJEQ</td>\n",
       "      <td>critters</td>\n",
       "      <td>1388966400</td>\n",
       "    </tr>\n",
       "    <tr>\n",
       "      <th>2</th>\n",
       "      <td>2</td>\n",
       "      <td>B000F83SZQ</td>\n",
       "      <td>[2, 2]</td>\n",
       "      <td>4</td>\n",
       "      <td>This was a fairly interesting read.  It had ol...</td>\n",
       "      <td>04 4, 2014</td>\n",
       "      <td>A795DMNCJILA6</td>\n",
       "      <td>dot</td>\n",
       "      <td>1396569600</td>\n",
       "    </tr>\n",
       "    <tr>\n",
       "      <th>3</th>\n",
       "      <td>3</td>\n",
       "      <td>B000F83SZQ</td>\n",
       "      <td>[1, 1]</td>\n",
       "      <td>5</td>\n",
       "      <td>I'd never read any of the Amy Brewster mysteri...</td>\n",
       "      <td>02 19, 2014</td>\n",
       "      <td>A1FV0SX13TWVXQ</td>\n",
       "      <td>Elaine H. Turley \"Montana Songbird\"</td>\n",
       "      <td>1392768000</td>\n",
       "    </tr>\n",
       "    <tr>\n",
       "      <th>4</th>\n",
       "      <td>4</td>\n",
       "      <td>B000F83SZQ</td>\n",
       "      <td>[0, 1]</td>\n",
       "      <td>4</td>\n",
       "      <td>If you like period pieces - clothing, lingo, y...</td>\n",
       "      <td>03 19, 2014</td>\n",
       "      <td>A3SPTOKDG7WBLN</td>\n",
       "      <td>Father Dowling Fan</td>\n",
       "      <td>1395187200</td>\n",
       "    </tr>\n",
       "  </tbody>\n",
       "</table>\n",
       "</div>"
      ],
      "text/plain": [
       "   Unnamed: 0        asin helpful  overall  \\\n",
       "0           0  B000F83SZQ  [0, 0]        5   \n",
       "1           1  B000F83SZQ  [2, 2]        4   \n",
       "2           2  B000F83SZQ  [2, 2]        4   \n",
       "3           3  B000F83SZQ  [1, 1]        5   \n",
       "4           4  B000F83SZQ  [0, 1]        4   \n",
       "\n",
       "                                          reviewText   reviewTime  \\\n",
       "0  I enjoy vintage books and movies so I enjoyed ...   05 5, 2014   \n",
       "1  This book is a reissue of an old one; the auth...   01 6, 2014   \n",
       "2  This was a fairly interesting read.  It had ol...   04 4, 2014   \n",
       "3  I'd never read any of the Amy Brewster mysteri...  02 19, 2014   \n",
       "4  If you like period pieces - clothing, lingo, y...  03 19, 2014   \n",
       "\n",
       "       reviewerID                         reviewerName  unixReviewTime  \n",
       "0  A1F6404F1VG29J                           Avidreader      1399248000  \n",
       "1   AN0N05A9LIJEQ                             critters      1388966400  \n",
       "2   A795DMNCJILA6                                  dot      1396569600  \n",
       "3  A1FV0SX13TWVXQ  Elaine H. Turley \"Montana Songbird\"      1392768000  \n",
       "4  A3SPTOKDG7WBLN                   Father Dowling Fan      1395187200  "
      ]
     },
     "execution_count": 51,
     "metadata": {},
     "output_type": "execute_result"
    }
   ],
   "source": [
    "data.head()"
   ]
  },
  {
   "cell_type": "code",
   "execution_count": 53,
   "id": "9bd50b2e",
   "metadata": {},
   "outputs": [
    {
     "name": "stdout",
     "output_type": "stream",
     "text": [
      "length of data is 982619\n"
     ]
    }
   ],
   "source": [
    "print('length of data is', len(data))"
   ]
  },
  {
   "cell_type": "code",
   "execution_count": 54,
   "id": "96cae7b5",
   "metadata": {},
   "outputs": [
    {
     "data": {
      "text/plain": [
       "5    575264\n",
       "4    254013\n",
       "3     96194\n",
       "2     34130\n",
       "1     23018\n",
       "Name: overall, dtype: int64"
      ]
     },
     "execution_count": 54,
     "metadata": {},
     "output_type": "execute_result"
    }
   ],
   "source": [
    "data.overall.value_counts()"
   ]
  },
  {
   "cell_type": "code",
   "execution_count": 55,
   "id": "81248243",
   "metadata": {},
   "outputs": [
    {
     "name": "stdout",
     "output_type": "stream",
     "text": [
      "<class 'pandas.core.frame.DataFrame'>\n",
      "RangeIndex: 982619 entries, 0 to 982618\n",
      "Data columns (total 9 columns):\n",
      " #   Column          Non-Null Count   Dtype \n",
      "---  ------          --------------   ----- \n",
      " 0   Unnamed: 0      982619 non-null  int64 \n",
      " 1   asin            982619 non-null  object\n",
      " 2   helpful         982619 non-null  object\n",
      " 3   overall         982619 non-null  int64 \n",
      " 4   reviewText      982619 non-null  object\n",
      " 5   reviewTime      982619 non-null  object\n",
      " 6   reviewerID      982619 non-null  object\n",
      " 7   reviewerName    978803 non-null  object\n",
      " 8   unixReviewTime  982619 non-null  int64 \n",
      "dtypes: int64(3), object(6)\n",
      "memory usage: 67.5+ MB\n"
     ]
    }
   ],
   "source": [
    "data.info()"
   ]
  },
  {
   "cell_type": "code",
   "execution_count": 56,
   "id": "52220fa8",
   "metadata": {},
   "outputs": [],
   "source": [
    "data[\"reviewTime\"] = pd.to_datetime(data[\"reviewTime\"])"
   ]
  },
  {
   "cell_type": "code",
   "execution_count": 63,
   "id": "03fab70b",
   "metadata": {},
   "outputs": [
    {
     "data": {
      "image/png": "[encoded data removed]",
      "text/plain": [
       "<Figure size 432x288 with 1 Axes>"
      ]
     },
     "metadata": {
      "needs_background": "light"
     },
     "output_type": "display_data"
    }
   ],
   "source": [
    "data['reviewTime'].hist(color = 'darkblue')\n",
    "plt.grid(False)"
   ]
  },
  {
   "cell_type": "code",
   "execution_count": 59,
   "id": "99b26680",
   "metadata": {},
   "outputs": [
    {
     "data": {
      "image/png": "[encoded data removed]",
      "text/plain": [
       "<Figure size 432x288 with 1 Axes>"
      ]
     },
     "metadata": {
      "needs_background": "light"
     },
     "output_type": "display_data"
    }
   ],
   "source": [
    "rate = data[\"overall\"].value_counts()\n",
    "plt.bar(rate.keys(), rate.values,color='darkgreen')\n",
    "plt.show()"
   ]
  },
  {
   "cell_type": "code",
   "execution_count": 34,
   "id": "9a4d0a09",
   "metadata": {},
   "outputs": [
    {
     "data": {
      "text/html": [
       "<div>\n",
       "<style scoped>\n",
       "    .dataframe tbody tr th:only-of-type {\n",
       "        vertical-align: middle;\n",
       "    }\n",
       "\n",
       "    .dataframe tbody tr th {\n",
       "        vertical-align: top;\n",
       "    }\n",
       "\n",
       "    .dataframe thead th {\n",
       "        text-align: right;\n",
       "    }\n",
       "</style>\n",
       "<table border=\"1\" class=\"dataframe\">\n",
       "  <thead>\n",
       "    <tr style=\"text-align: right;\">\n",
       "      <th></th>\n",
       "      <th>Unnamed: 0</th>\n",
       "      <th>asin</th>\n",
       "      <th>helpful</th>\n",
       "      <th>overall</th>\n",
       "      <th>reviewText</th>\n",
       "      <th>reviewTime</th>\n",
       "      <th>reviewerID</th>\n",
       "      <th>reviewerName</th>\n",
       "      <th>unixReviewTime</th>\n",
       "    </tr>\n",
       "  </thead>\n",
       "  <tbody>\n",
       "    <tr>\n",
       "      <th>0</th>\n",
       "      <td>0</td>\n",
       "      <td>B000F83SZQ</td>\n",
       "      <td>[0, 0]</td>\n",
       "      <td>5</td>\n",
       "      <td>I enjoy vintage books and movies so I enjoyed ...</td>\n",
       "      <td>2014-05-05</td>\n",
       "      <td>A1F6404F1VG29J</td>\n",
       "      <td>Avidreader</td>\n",
       "      <td>1399248000</td>\n",
       "    </tr>\n",
       "    <tr>\n",
       "      <th>1</th>\n",
       "      <td>1</td>\n",
       "      <td>B000F83SZQ</td>\n",
       "      <td>[2, 2]</td>\n",
       "      <td>4</td>\n",
       "      <td>This book is a reissue of an old one; the auth...</td>\n",
       "      <td>2014-01-06</td>\n",
       "      <td>AN0N05A9LIJEQ</td>\n",
       "      <td>critters</td>\n",
       "      <td>1388966400</td>\n",
       "    </tr>\n",
       "    <tr>\n",
       "      <th>2</th>\n",
       "      <td>2</td>\n",
       "      <td>B000F83SZQ</td>\n",
       "      <td>[2, 2]</td>\n",
       "      <td>4</td>\n",
       "      <td>This was a fairly interesting read.  It had ol...</td>\n",
       "      <td>2014-04-04</td>\n",
       "      <td>A795DMNCJILA6</td>\n",
       "      <td>dot</td>\n",
       "      <td>1396569600</td>\n",
       "    </tr>\n",
       "  </tbody>\n",
       "</table>\n",
       "</div>"
      ],
      "text/plain": [
       "   Unnamed: 0        asin helpful  overall  \\\n",
       "0           0  B000F83SZQ  [0, 0]        5   \n",
       "1           1  B000F83SZQ  [2, 2]        4   \n",
       "2           2  B000F83SZQ  [2, 2]        4   \n",
       "\n",
       "                                          reviewText reviewTime  \\\n",
       "0  I enjoy vintage books and movies so I enjoyed ... 2014-05-05   \n",
       "1  This book is a reissue of an old one; the auth... 2014-01-06   \n",
       "2  This was a fairly interesting read.  It had ol... 2014-04-04   \n",
       "\n",
       "       reviewerID reviewerName  unixReviewTime  \n",
       "0  A1F6404F1VG29J   Avidreader      1399248000  \n",
       "1   AN0N05A9LIJEQ     critters      1388966400  \n",
       "2   A795DMNCJILA6          dot      1396569600  "
      ]
     },
     "execution_count": 34,
     "metadata": {},
     "output_type": "execute_result"
    }
   ],
   "source": [
    "data.head(3)"
   ]
  },
  {
   "cell_type": "code",
   "execution_count": 64,
   "id": "b79e5951",
   "metadata": {},
   "outputs": [
    {
     "data": {
      "text/plain": [
       "array(['A1F6404F1VG29J', 'AN0N05A9LIJEQ', 'A795DMNCJILA6', ...,\n",
       "       'AJ4AQ3Z6C1HHK', 'A3HAKOACTS32CH', 'A2Y1DUZLM79UYU'], dtype=object)"
      ]
     },
     "execution_count": 64,
     "metadata": {},
     "output_type": "execute_result"
    }
   ],
   "source": [
    "data['reviewerID'].unique()"
   ]
  },
  {
   "cell_type": "code",
   "execution_count": 65,
   "id": "74c39ebb",
   "metadata": {},
   "outputs": [
    {
     "data": {
      "text/plain": [
       "(982619, 9)"
      ]
     },
     "execution_count": 65,
     "metadata": {},
     "output_type": "execute_result"
    }
   ],
   "source": [
    "data.shape"
   ]
  },
  {
   "cell_type": "code",
   "execution_count": 66,
   "id": "d3c6eb56",
   "metadata": {},
   "outputs": [
    {
     "name": "stderr",
     "output_type": "stream",
     "text": [
      "C:\\Users\\lodor\\AppData\\Local\\Temp/ipykernel_37208/859313661.py:4: DeprecationWarning: `np.bool` is a deprecated alias for the builtin `bool`. To silence this warning, use `bool` by itself. Doing this will not modify any behavior and is safe. If you specifically wanted the numpy scalar type, use `np.bool_` here.\n",
      "Deprecated in NumPy 1.20; for more details and guidance: https://numpy.org/devdocs/release/1.20.0-notes.html#deprecations\n",
      "  sns.heatmap(corr, mask = np.zeros_like(corr, dtype = np.bool), cmap = sns.diverging_palette(-100,0,as_cmap = True),\n"
     ]
    },
    {
     "data": {
      "text/plain": [
       "<AxesSubplot:>"
      ]
     },
     "execution_count": 66,
     "metadata": {},
     "output_type": "execute_result"
    },
    {
     "data": {
      "image/png": "[encoded data removed]",
      "text/plain": [
       "<Figure size 720x720 with 2 Axes>"
      ]
     },
     "metadata": {
      "needs_background": "light"
     },
     "output_type": "display_data"
    }
   ],
   "source": [
    "# finding the correlation between different features and their influence on overall score\n",
    "plt.figure(figsize=(10,10))\n",
    "corr = data.corr()\n",
    "sns.heatmap(corr, mask = np.zeros_like(corr, dtype = np.bool), cmap = sns.diverging_palette(-100,0,as_cmap = True),\n",
    "            square = True)"
   ]
  },
  {
   "cell_type": "code",
   "execution_count": 67,
   "id": "2f084845",
   "metadata": {},
   "outputs": [],
   "source": [
    "# Data Preprocessing "
   ]
  },
  {
   "cell_type": "code",
   "execution_count": 68,
   "id": "537aa97c",
   "metadata": {},
   "outputs": [
    {
     "data": {
      "text/plain": [
       "0    I enjoy vintage books and movies so I enjoyed ...\n",
       "1    This book is a reissue of an old one; the auth...\n",
       "2    This was a fairly interesting read.  It had ol...\n",
       "3    I'd never read any of the Amy Brewster mysteri...\n",
       "4    If you like period pieces - clothing, lingo, y...\n",
       "Name: reviewText, dtype: object"
      ]
     },
     "execution_count": 68,
     "metadata": {},
     "output_type": "execute_result"
    }
   ],
   "source": [
    "data['reviewText'][:5]"
   ]
  },
  {
   "cell_type": "code",
   "execution_count": 69,
   "id": "2f70d48f",
   "metadata": {},
   "outputs": [
    {
     "data": {
      "text/plain": [
       "982619"
      ]
     },
     "execution_count": 69,
     "metadata": {},
     "output_type": "execute_result"
    }
   ],
   "source": [
    "data['reviewText'].count()"
   ]
  },
  {
   "cell_type": "code",
   "execution_count": 70,
   "id": "2744ef2b",
   "metadata": {},
   "outputs": [
    {
     "data": {
      "text/html": [
       "<div>\n",
       "<style scoped>\n",
       "    .dataframe tbody tr th:only-of-type {\n",
       "        vertical-align: middle;\n",
       "    }\n",
       "\n",
       "    .dataframe tbody tr th {\n",
       "        vertical-align: top;\n",
       "    }\n",
       "\n",
       "    .dataframe thead th {\n",
       "        text-align: right;\n",
       "    }\n",
       "</style>\n",
       "<table border=\"1\" class=\"dataframe\">\n",
       "  <thead>\n",
       "    <tr style=\"text-align: right;\">\n",
       "      <th></th>\n",
       "      <th>Unnamed: 0</th>\n",
       "      <th>asin</th>\n",
       "      <th>helpful</th>\n",
       "      <th>overall</th>\n",
       "      <th>reviewText</th>\n",
       "      <th>reviewTime</th>\n",
       "      <th>reviewerID</th>\n",
       "      <th>reviewerName</th>\n",
       "      <th>unixReviewTime</th>\n",
       "    </tr>\n",
       "  </thead>\n",
       "  <tbody>\n",
       "    <tr>\n",
       "      <th>0</th>\n",
       "      <td>0</td>\n",
       "      <td>B000F83SZQ</td>\n",
       "      <td>[0, 0]</td>\n",
       "      <td>5</td>\n",
       "      <td>i enjoy vintage books and movies so i enjoyed ...</td>\n",
       "      <td>2014-05-05</td>\n",
       "      <td>A1F6404F1VG29J</td>\n",
       "      <td>Avidreader</td>\n",
       "      <td>1399248000</td>\n",
       "    </tr>\n",
       "    <tr>\n",
       "      <th>1</th>\n",
       "      <td>1</td>\n",
       "      <td>B000F83SZQ</td>\n",
       "      <td>[2, 2]</td>\n",
       "      <td>4</td>\n",
       "      <td>this book is a reissue of an old one; the auth...</td>\n",
       "      <td>2014-01-06</td>\n",
       "      <td>AN0N05A9LIJEQ</td>\n",
       "      <td>critters</td>\n",
       "      <td>1388966400</td>\n",
       "    </tr>\n",
       "    <tr>\n",
       "      <th>2</th>\n",
       "      <td>2</td>\n",
       "      <td>B000F83SZQ</td>\n",
       "      <td>[2, 2]</td>\n",
       "      <td>4</td>\n",
       "      <td>this was a fairly interesting read. it had old...</td>\n",
       "      <td>2014-04-04</td>\n",
       "      <td>A795DMNCJILA6</td>\n",
       "      <td>dot</td>\n",
       "      <td>1396569600</td>\n",
       "    </tr>\n",
       "    <tr>\n",
       "      <th>3</th>\n",
       "      <td>3</td>\n",
       "      <td>B000F83SZQ</td>\n",
       "      <td>[1, 1]</td>\n",
       "      <td>5</td>\n",
       "      <td>i'd never read any of the amy brewster mysteri...</td>\n",
       "      <td>2014-02-19</td>\n",
       "      <td>A1FV0SX13TWVXQ</td>\n",
       "      <td>Elaine H. Turley \"Montana Songbird\"</td>\n",
       "      <td>1392768000</td>\n",
       "    </tr>\n",
       "    <tr>\n",
       "      <th>4</th>\n",
       "      <td>4</td>\n",
       "      <td>B000F83SZQ</td>\n",
       "      <td>[0, 1]</td>\n",
       "      <td>4</td>\n",
       "      <td>if you like period pieces - clothing, lingo, y...</td>\n",
       "      <td>2014-03-19</td>\n",
       "      <td>A3SPTOKDG7WBLN</td>\n",
       "      <td>Father Dowling Fan</td>\n",
       "      <td>1395187200</td>\n",
       "    </tr>\n",
       "  </tbody>\n",
       "</table>\n",
       "</div>"
      ],
      "text/plain": [
       "   Unnamed: 0        asin helpful  overall  \\\n",
       "0           0  B000F83SZQ  [0, 0]        5   \n",
       "1           1  B000F83SZQ  [2, 2]        4   \n",
       "2           2  B000F83SZQ  [2, 2]        4   \n",
       "3           3  B000F83SZQ  [1, 1]        5   \n",
       "4           4  B000F83SZQ  [0, 1]        4   \n",
       "\n",
       "                                          reviewText reviewTime  \\\n",
       "0  i enjoy vintage books and movies so i enjoyed ... 2014-05-05   \n",
       "1  this book is a reissue of an old one; the auth... 2014-01-06   \n",
       "2  this was a fairly interesting read. it had old... 2014-04-04   \n",
       "3  i'd never read any of the amy brewster mysteri... 2014-02-19   \n",
       "4  if you like period pieces - clothing, lingo, y... 2014-03-19   \n",
       "\n",
       "       reviewerID                         reviewerName  unixReviewTime  \n",
       "0  A1F6404F1VG29J                           Avidreader      1399248000  \n",
       "1   AN0N05A9LIJEQ                             critters      1388966400  \n",
       "2   A795DMNCJILA6                                  dot      1396569600  \n",
       "3  A1FV0SX13TWVXQ  Elaine H. Turley \"Montana Songbird\"      1392768000  \n",
       "4  A3SPTOKDG7WBLN                   Father Dowling Fan      1395187200  "
      ]
     },
     "execution_count": 70,
     "metadata": {},
     "output_type": "execute_result"
    }
   ],
   "source": [
    "# LowerCase\n",
    "data['reviewText'] = data['reviewText'].apply(lambda x: \" \".join(x.lower() for x in x.split()))\n",
    "data.head()"
   ]
  },
  {
   "cell_type": "code",
   "execution_count": 71,
   "id": "e7864619",
   "metadata": {},
   "outputs": [
    {
     "name": "stderr",
     "output_type": "stream",
     "text": [
      "C:\\Users\\lodor\\AppData\\Local\\Temp/ipykernel_37208/2675396870.py:2: FutureWarning: The default value of regex will change from True to False in a future version.\n",
      "  data['reviewText_punctuation'] = data['reviewText'].str.replace('[^\\w\\s]','')\n"
     ]
    },
    {
     "data": {
      "text/html": [
       "<div>\n",
       "<style scoped>\n",
       "    .dataframe tbody tr th:only-of-type {\n",
       "        vertical-align: middle;\n",
       "    }\n",
       "\n",
       "    .dataframe tbody tr th {\n",
       "        vertical-align: top;\n",
       "    }\n",
       "\n",
       "    .dataframe thead th {\n",
       "        text-align: right;\n",
       "    }\n",
       "</style>\n",
       "<table border=\"1\" class=\"dataframe\">\n",
       "  <thead>\n",
       "    <tr style=\"text-align: right;\">\n",
       "      <th></th>\n",
       "      <th>Unnamed: 0</th>\n",
       "      <th>asin</th>\n",
       "      <th>helpful</th>\n",
       "      <th>overall</th>\n",
       "      <th>reviewText</th>\n",
       "      <th>reviewTime</th>\n",
       "      <th>reviewerID</th>\n",
       "      <th>reviewerName</th>\n",
       "      <th>unixReviewTime</th>\n",
       "      <th>reviewText_punctuation</th>\n",
       "    </tr>\n",
       "  </thead>\n",
       "  <tbody>\n",
       "    <tr>\n",
       "      <th>0</th>\n",
       "      <td>0</td>\n",
       "      <td>B000F83SZQ</td>\n",
       "      <td>[0, 0]</td>\n",
       "      <td>5</td>\n",
       "      <td>i enjoy vintage books and movies so i enjoyed ...</td>\n",
       "      <td>2014-05-05</td>\n",
       "      <td>A1F6404F1VG29J</td>\n",
       "      <td>Avidreader</td>\n",
       "      <td>1399248000</td>\n",
       "      <td>i enjoy vintage books and movies so i enjoyed ...</td>\n",
       "    </tr>\n",
       "    <tr>\n",
       "      <th>1</th>\n",
       "      <td>1</td>\n",
       "      <td>B000F83SZQ</td>\n",
       "      <td>[2, 2]</td>\n",
       "      <td>4</td>\n",
       "      <td>this book is a reissue of an old one; the auth...</td>\n",
       "      <td>2014-01-06</td>\n",
       "      <td>AN0N05A9LIJEQ</td>\n",
       "      <td>critters</td>\n",
       "      <td>1388966400</td>\n",
       "      <td>this book is a reissue of an old one the autho...</td>\n",
       "    </tr>\n",
       "    <tr>\n",
       "      <th>2</th>\n",
       "      <td>2</td>\n",
       "      <td>B000F83SZQ</td>\n",
       "      <td>[2, 2]</td>\n",
       "      <td>4</td>\n",
       "      <td>this was a fairly interesting read. it had old...</td>\n",
       "      <td>2014-04-04</td>\n",
       "      <td>A795DMNCJILA6</td>\n",
       "      <td>dot</td>\n",
       "      <td>1396569600</td>\n",
       "      <td>this was a fairly interesting read it had old ...</td>\n",
       "    </tr>\n",
       "    <tr>\n",
       "      <th>3</th>\n",
       "      <td>3</td>\n",
       "      <td>B000F83SZQ</td>\n",
       "      <td>[1, 1]</td>\n",
       "      <td>5</td>\n",
       "      <td>i'd never read any of the amy brewster mysteri...</td>\n",
       "      <td>2014-02-19</td>\n",
       "      <td>A1FV0SX13TWVXQ</td>\n",
       "      <td>Elaine H. Turley \"Montana Songbird\"</td>\n",
       "      <td>1392768000</td>\n",
       "      <td>id never read any of the amy brewster mysterie...</td>\n",
       "    </tr>\n",
       "    <tr>\n",
       "      <th>4</th>\n",
       "      <td>4</td>\n",
       "      <td>B000F83SZQ</td>\n",
       "      <td>[0, 1]</td>\n",
       "      <td>4</td>\n",
       "      <td>if you like period pieces - clothing, lingo, y...</td>\n",
       "      <td>2014-03-19</td>\n",
       "      <td>A3SPTOKDG7WBLN</td>\n",
       "      <td>Father Dowling Fan</td>\n",
       "      <td>1395187200</td>\n",
       "      <td>if you like period pieces  clothing lingo you ...</td>\n",
       "    </tr>\n",
       "  </tbody>\n",
       "</table>\n",
       "</div>"
      ],
      "text/plain": [
       "   Unnamed: 0        asin helpful  overall  \\\n",
       "0           0  B000F83SZQ  [0, 0]        5   \n",
       "1           1  B000F83SZQ  [2, 2]        4   \n",
       "2           2  B000F83SZQ  [2, 2]        4   \n",
       "3           3  B000F83SZQ  [1, 1]        5   \n",
       "4           4  B000F83SZQ  [0, 1]        4   \n",
       "\n",
       "                                          reviewText reviewTime  \\\n",
       "0  i enjoy vintage books and movies so i enjoyed ... 2014-05-05   \n",
       "1  this book is a reissue of an old one; the auth... 2014-01-06   \n",
       "2  this was a fairly interesting read. it had old... 2014-04-04   \n",
       "3  i'd never read any of the amy brewster mysteri... 2014-02-19   \n",
       "4  if you like period pieces - clothing, lingo, y... 2014-03-19   \n",
       "\n",
       "       reviewerID                         reviewerName  unixReviewTime  \\\n",
       "0  A1F6404F1VG29J                           Avidreader      1399248000   \n",
       "1   AN0N05A9LIJEQ                             critters      1388966400   \n",
       "2   A795DMNCJILA6                                  dot      1396569600   \n",
       "3  A1FV0SX13TWVXQ  Elaine H. Turley \"Montana Songbird\"      1392768000   \n",
       "4  A3SPTOKDG7WBLN                   Father Dowling Fan      1395187200   \n",
       "\n",
       "                              reviewText_punctuation  \n",
       "0  i enjoy vintage books and movies so i enjoyed ...  \n",
       "1  this book is a reissue of an old one the autho...  \n",
       "2  this was a fairly interesting read it had old ...  \n",
       "3  id never read any of the amy brewster mysterie...  \n",
       "4  if you like period pieces  clothing lingo you ...  "
      ]
     },
     "execution_count": 71,
     "metadata": {},
     "output_type": "execute_result"
    }
   ],
   "source": [
    "# Remove Punctuation\n",
    "data['reviewText_punctuation'] = data['reviewText'].str.replace('[^\\w\\s]','')\n",
    "data.head()"
   ]
  },
  {
   "cell_type": "code",
   "execution_count": 72,
   "id": "033e7243",
   "metadata": {},
   "outputs": [
    {
     "data": {
      "text/html": [
       "<div>\n",
       "<style scoped>\n",
       "    .dataframe tbody tr th:only-of-type {\n",
       "        vertical-align: middle;\n",
       "    }\n",
       "\n",
       "    .dataframe tbody tr th {\n",
       "        vertical-align: top;\n",
       "    }\n",
       "\n",
       "    .dataframe thead th {\n",
       "        text-align: right;\n",
       "    }\n",
       "</style>\n",
       "<table border=\"1\" class=\"dataframe\">\n",
       "  <thead>\n",
       "    <tr style=\"text-align: right;\">\n",
       "      <th></th>\n",
       "      <th>Unnamed: 0</th>\n",
       "      <th>asin</th>\n",
       "      <th>helpful</th>\n",
       "      <th>overall</th>\n",
       "      <th>reviewText</th>\n",
       "      <th>reviewTime</th>\n",
       "      <th>reviewerID</th>\n",
       "      <th>reviewerName</th>\n",
       "      <th>unixReviewTime</th>\n",
       "      <th>reviewText_punctuation</th>\n",
       "      <th>reviewText_stopwords</th>\n",
       "    </tr>\n",
       "  </thead>\n",
       "  <tbody>\n",
       "    <tr>\n",
       "      <th>0</th>\n",
       "      <td>0</td>\n",
       "      <td>B000F83SZQ</td>\n",
       "      <td>[0, 0]</td>\n",
       "      <td>5</td>\n",
       "      <td>i enjoy vintage books and movies so i enjoyed ...</td>\n",
       "      <td>2014-05-05</td>\n",
       "      <td>A1F6404F1VG29J</td>\n",
       "      <td>Avidreader</td>\n",
       "      <td>1399248000</td>\n",
       "      <td>i enjoy vintage books and movies so i enjoyed ...</td>\n",
       "      <td>enjoy vintage books movies enjoyed reading boo...</td>\n",
       "    </tr>\n",
       "    <tr>\n",
       "      <th>1</th>\n",
       "      <td>1</td>\n",
       "      <td>B000F83SZQ</td>\n",
       "      <td>[2, 2]</td>\n",
       "      <td>4</td>\n",
       "      <td>this book is a reissue of an old one; the auth...</td>\n",
       "      <td>2014-01-06</td>\n",
       "      <td>AN0N05A9LIJEQ</td>\n",
       "      <td>critters</td>\n",
       "      <td>1388966400</td>\n",
       "      <td>this book is a reissue of an old one the autho...</td>\n",
       "      <td>book reissue old one author born 1910 era say ...</td>\n",
       "    </tr>\n",
       "    <tr>\n",
       "      <th>2</th>\n",
       "      <td>2</td>\n",
       "      <td>B000F83SZQ</td>\n",
       "      <td>[2, 2]</td>\n",
       "      <td>4</td>\n",
       "      <td>this was a fairly interesting read. it had old...</td>\n",
       "      <td>2014-04-04</td>\n",
       "      <td>A795DMNCJILA6</td>\n",
       "      <td>dot</td>\n",
       "      <td>1396569600</td>\n",
       "      <td>this was a fairly interesting read it had old ...</td>\n",
       "      <td>fairly interesting read old style terminologyi...</td>\n",
       "    </tr>\n",
       "    <tr>\n",
       "      <th>3</th>\n",
       "      <td>3</td>\n",
       "      <td>B000F83SZQ</td>\n",
       "      <td>[1, 1]</td>\n",
       "      <td>5</td>\n",
       "      <td>i'd never read any of the amy brewster mysteri...</td>\n",
       "      <td>2014-02-19</td>\n",
       "      <td>A1FV0SX13TWVXQ</td>\n",
       "      <td>Elaine H. Turley \"Montana Songbird\"</td>\n",
       "      <td>1392768000</td>\n",
       "      <td>id never read any of the amy brewster mysterie...</td>\n",
       "      <td>id never read amy brewster mysteries one reall...</td>\n",
       "    </tr>\n",
       "    <tr>\n",
       "      <th>4</th>\n",
       "      <td>4</td>\n",
       "      <td>B000F83SZQ</td>\n",
       "      <td>[0, 1]</td>\n",
       "      <td>4</td>\n",
       "      <td>if you like period pieces - clothing, lingo, y...</td>\n",
       "      <td>2014-03-19</td>\n",
       "      <td>A3SPTOKDG7WBLN</td>\n",
       "      <td>Father Dowling Fan</td>\n",
       "      <td>1395187200</td>\n",
       "      <td>if you like period pieces  clothing lingo you ...</td>\n",
       "      <td>like period pieces clothing lingo enjoy myster...</td>\n",
       "    </tr>\n",
       "  </tbody>\n",
       "</table>\n",
       "</div>"
      ],
      "text/plain": [
       "   Unnamed: 0        asin helpful  overall  \\\n",
       "0           0  B000F83SZQ  [0, 0]        5   \n",
       "1           1  B000F83SZQ  [2, 2]        4   \n",
       "2           2  B000F83SZQ  [2, 2]        4   \n",
       "3           3  B000F83SZQ  [1, 1]        5   \n",
       "4           4  B000F83SZQ  [0, 1]        4   \n",
       "\n",
       "                                          reviewText reviewTime  \\\n",
       "0  i enjoy vintage books and movies so i enjoyed ... 2014-05-05   \n",
       "1  this book is a reissue of an old one; the auth... 2014-01-06   \n",
       "2  this was a fairly interesting read. it had old... 2014-04-04   \n",
       "3  i'd never read any of the amy brewster mysteri... 2014-02-19   \n",
       "4  if you like period pieces - clothing, lingo, y... 2014-03-19   \n",
       "\n",
       "       reviewerID                         reviewerName  unixReviewTime  \\\n",
       "0  A1F6404F1VG29J                           Avidreader      1399248000   \n",
       "1   AN0N05A9LIJEQ                             critters      1388966400   \n",
       "2   A795DMNCJILA6                                  dot      1396569600   \n",
       "3  A1FV0SX13TWVXQ  Elaine H. Turley \"Montana Songbird\"      1392768000   \n",
       "4  A3SPTOKDG7WBLN                   Father Dowling Fan      1395187200   \n",
       "\n",
       "                              reviewText_punctuation  \\\n",
       "0  i enjoy vintage books and movies so i enjoyed ...   \n",
       "1  this book is a reissue of an old one the autho...   \n",
       "2  this was a fairly interesting read it had old ...   \n",
       "3  id never read any of the amy brewster mysterie...   \n",
       "4  if you like period pieces  clothing lingo you ...   \n",
       "\n",
       "                                reviewText_stopwords  \n",
       "0  enjoy vintage books movies enjoyed reading boo...  \n",
       "1  book reissue old one author born 1910 era say ...  \n",
       "2  fairly interesting read old style terminologyi...  \n",
       "3  id never read amy brewster mysteries one reall...  \n",
       "4  like period pieces clothing lingo enjoy myster...  "
      ]
     },
     "execution_count": 72,
     "metadata": {},
     "output_type": "execute_result"
    }
   ],
   "source": [
    "# Stopwords\n",
    "import nltk\n",
    "from nltk.corpus import stopwords\n",
    "\n",
    "stopwords = stopwords.words('english')\n",
    "data['reviewText_stopwords']  = data['reviewText_punctuation'] .apply(lambda x: \" \".join(x for x in x.split() if x not in stopwords))\n",
    "data.head()"
   ]
  },
  {
   "cell_type": "code",
   "execution_count": 73,
   "id": "97beff01",
   "metadata": {},
   "outputs": [
    {
     "name": "stdout",
     "output_type": "stream",
     "text": [
      "Requirement already satisfied: textblob in c:\\users\\lodor\\anaconda3\\lib\\site-packages (0.17.1)\n",
      "Requirement already satisfied: nltk>=3.1 in c:\\users\\lodor\\anaconda3\\lib\\site-packages (from textblob) (3.6.5)\n",
      "Requirement already satisfied: click in c:\\users\\lodor\\anaconda3\\lib\\site-packages (from nltk>=3.1->textblob) (8.0.3)\n",
      "Requirement already satisfied: joblib in c:\\users\\lodor\\anaconda3\\lib\\site-packages (from nltk>=3.1->textblob) (1.1.0)\n",
      "Requirement already satisfied: regex>=2021.8.3 in c:\\users\\lodor\\anaconda3\\lib\\site-packages (from nltk>=3.1->textblob) (2021.8.3)\n",
      "Requirement already satisfied: tqdm in c:\\users\\lodor\\anaconda3\\lib\\site-packages (from nltk>=3.1->textblob) (4.62.3)\n",
      "Requirement already satisfied: colorama in c:\\users\\lodor\\anaconda3\\lib\\site-packages (from click->nltk>=3.1->textblob) (0.4.4)\n"
     ]
    }
   ],
   "source": [
    "# Import textblob\n",
    "! pip install -U textblob"
   ]
  },
  {
   "cell_type": "code",
   "execution_count": 74,
   "id": "67b54b8a",
   "metadata": {},
   "outputs": [
    {
     "data": {
      "text/html": [
       "<div>\n",
       "<style scoped>\n",
       "    .dataframe tbody tr th:only-of-type {\n",
       "        vertical-align: middle;\n",
       "    }\n",
       "\n",
       "    .dataframe tbody tr th {\n",
       "        vertical-align: top;\n",
       "    }\n",
       "\n",
       "    .dataframe thead th {\n",
       "        text-align: right;\n",
       "    }\n",
       "</style>\n",
       "<table border=\"1\" class=\"dataframe\">\n",
       "  <thead>\n",
       "    <tr style=\"text-align: right;\">\n",
       "      <th></th>\n",
       "      <th>reviewText</th>\n",
       "      <th>reviewText_punctuation</th>\n",
       "      <th>reviewText_stopwords</th>\n",
       "      <th>reviewText_tokenized</th>\n",
       "    </tr>\n",
       "  </thead>\n",
       "  <tbody>\n",
       "    <tr>\n",
       "      <th>0</th>\n",
       "      <td>i enjoy vintage books and movies so i enjoyed ...</td>\n",
       "      <td>i enjoy vintage books and movies so i enjoyed ...</td>\n",
       "      <td>enjoy vintage books movies enjoyed reading boo...</td>\n",
       "      <td>[enjoy, vintage, books, movies, enjoyed, readi...</td>\n",
       "    </tr>\n",
       "    <tr>\n",
       "      <th>1</th>\n",
       "      <td>this book is a reissue of an old one; the auth...</td>\n",
       "      <td>this book is a reissue of an old one the autho...</td>\n",
       "      <td>book reissue old one author born 1910 era say ...</td>\n",
       "      <td>[book, reissue, old, one, author, born, 1910, ...</td>\n",
       "    </tr>\n",
       "    <tr>\n",
       "      <th>2</th>\n",
       "      <td>this was a fairly interesting read. it had old...</td>\n",
       "      <td>this was a fairly interesting read it had old ...</td>\n",
       "      <td>fairly interesting read old style terminologyi...</td>\n",
       "      <td>[fairly, interesting, read, old, style, termin...</td>\n",
       "    </tr>\n",
       "    <tr>\n",
       "      <th>3</th>\n",
       "      <td>i'd never read any of the amy brewster mysteri...</td>\n",
       "      <td>id never read any of the amy brewster mysterie...</td>\n",
       "      <td>id never read amy brewster mysteries one reall...</td>\n",
       "      <td>[id, never, read, amy, brewster, mysteries, on...</td>\n",
       "    </tr>\n",
       "    <tr>\n",
       "      <th>4</th>\n",
       "      <td>if you like period pieces - clothing, lingo, y...</td>\n",
       "      <td>if you like period pieces  clothing lingo you ...</td>\n",
       "      <td>like period pieces clothing lingo enjoy myster...</td>\n",
       "      <td>[like, period, pieces, clothing, lingo, enjoy,...</td>\n",
       "    </tr>\n",
       "    <tr>\n",
       "      <th>5</th>\n",
       "      <td>a beautiful in-depth character description mak...</td>\n",
       "      <td>a beautiful indepth character description make...</td>\n",
       "      <td>beautiful indepth character description makes ...</td>\n",
       "      <td>[beautiful, indepth, character, description, m...</td>\n",
       "    </tr>\n",
       "    <tr>\n",
       "      <th>6</th>\n",
       "      <td>i enjoyed this one tho i'm not sure why it's c...</td>\n",
       "      <td>i enjoyed this one tho im not sure why its cal...</td>\n",
       "      <td>enjoyed one tho im sure called amy brewster my...</td>\n",
       "      <td>[enjoyed, one, tho, im, sure, called, amy, bre...</td>\n",
       "    </tr>\n",
       "    <tr>\n",
       "      <th>7</th>\n",
       "      <td>never heard of amy brewster. but i don't need ...</td>\n",
       "      <td>never heard of amy brewster but i dont need to...</td>\n",
       "      <td>never heard amy brewster dont need like amy br...</td>\n",
       "      <td>[never, heard, amy, brewster, dont, need, like...</td>\n",
       "    </tr>\n",
       "    <tr>\n",
       "      <th>8</th>\n",
       "      <td>darth maul working under cloak of darkness com...</td>\n",
       "      <td>darth maul working under cloak of darkness com...</td>\n",
       "      <td>darth maul working cloak darkness committing s...</td>\n",
       "      <td>[darth, maul, working, cloak, darkness, commit...</td>\n",
       "    </tr>\n",
       "  </tbody>\n",
       "</table>\n",
       "</div>"
      ],
      "text/plain": [
       "                                          reviewText  \\\n",
       "0  i enjoy vintage books and movies so i enjoyed ...   \n",
       "1  this book is a reissue of an old one; the auth...   \n",
       "2  this was a fairly interesting read. it had old...   \n",
       "3  i'd never read any of the amy brewster mysteri...   \n",
       "4  if you like period pieces - clothing, lingo, y...   \n",
       "5  a beautiful in-depth character description mak...   \n",
       "6  i enjoyed this one tho i'm not sure why it's c...   \n",
       "7  never heard of amy brewster. but i don't need ...   \n",
       "8  darth maul working under cloak of darkness com...   \n",
       "\n",
       "                              reviewText_punctuation  \\\n",
       "0  i enjoy vintage books and movies so i enjoyed ...   \n",
       "1  this book is a reissue of an old one the autho...   \n",
       "2  this was a fairly interesting read it had old ...   \n",
       "3  id never read any of the amy brewster mysterie...   \n",
       "4  if you like period pieces  clothing lingo you ...   \n",
       "5  a beautiful indepth character description make...   \n",
       "6  i enjoyed this one tho im not sure why its cal...   \n",
       "7  never heard of amy brewster but i dont need to...   \n",
       "8  darth maul working under cloak of darkness com...   \n",
       "\n",
       "                                reviewText_stopwords  \\\n",
       "0  enjoy vintage books movies enjoyed reading boo...   \n",
       "1  book reissue old one author born 1910 era say ...   \n",
       "2  fairly interesting read old style terminologyi...   \n",
       "3  id never read amy brewster mysteries one reall...   \n",
       "4  like period pieces clothing lingo enjoy myster...   \n",
       "5  beautiful indepth character description makes ...   \n",
       "6  enjoyed one tho im sure called amy brewster my...   \n",
       "7  never heard amy brewster dont need like amy br...   \n",
       "8  darth maul working cloak darkness committing s...   \n",
       "\n",
       "                                reviewText_tokenized  \n",
       "0  [enjoy, vintage, books, movies, enjoyed, readi...  \n",
       "1  [book, reissue, old, one, author, born, 1910, ...  \n",
       "2  [fairly, interesting, read, old, style, termin...  \n",
       "3  [id, never, read, amy, brewster, mysteries, on...  \n",
       "4  [like, period, pieces, clothing, lingo, enjoy,...  \n",
       "5  [beautiful, indepth, character, description, m...  \n",
       "6  [enjoyed, one, tho, im, sure, called, amy, bre...  \n",
       "7  [never, heard, amy, brewster, dont, need, like...  \n",
       "8  [darth, maul, working, cloak, darkness, commit...  "
      ]
     },
     "execution_count": 74,
     "metadata": {},
     "output_type": "execute_result"
    }
   ],
   "source": [
    "#Tokenization \n",
    "import textblob           \n",
    "from textblob import TextBlob\n",
    "\n",
    "def tokenization(text):\n",
    "    text = re.split('\\W+', text)\n",
    "    return text\n",
    "data['reviewText_tokenized'] = data['reviewText_stopwords'].apply(lambda x: tokenization(x.lower()))\n",
    "data[['reviewText', 'reviewText_punctuation', 'reviewText_stopwords', 'reviewText_tokenized']][0:9]"
   ]
  },
  {
   "cell_type": "code",
   "execution_count": 43,
   "id": "921318b4",
   "metadata": {},
   "outputs": [
    {
     "name": "stderr",
     "output_type": "stream",
     "text": [
      "[nltk_data] Downloading package wordnet to\n",
      "[nltk_data]     C:\\Users\\lodor\\AppData\\Roaming\\nltk_data...\n",
      "[nltk_data]   Unzipping corpora\\wordnet.zip.\n"
     ]
    },
    {
     "data": {
      "text/plain": [
       "True"
      ]
     },
     "execution_count": 43,
     "metadata": {},
     "output_type": "execute_result"
    }
   ],
   "source": [
    "# Download wordnet\n",
    "nltk.download('wordnet')"
   ]
  },
  {
   "cell_type": "code",
   "execution_count": 76,
   "id": "37de296e",
   "metadata": {},
   "outputs": [
    {
     "data": {
      "text/html": [
       "<div>\n",
       "<style scoped>\n",
       "    .dataframe tbody tr th:only-of-type {\n",
       "        vertical-align: middle;\n",
       "    }\n",
       "\n",
       "    .dataframe tbody tr th {\n",
       "        vertical-align: top;\n",
       "    }\n",
       "\n",
       "    .dataframe thead th {\n",
       "        text-align: right;\n",
       "    }\n",
       "</style>\n",
       "<table border=\"1\" class=\"dataframe\">\n",
       "  <thead>\n",
       "    <tr style=\"text-align: right;\">\n",
       "      <th></th>\n",
       "      <th>reviewText</th>\n",
       "      <th>reviewText_punctuation</th>\n",
       "      <th>reviewText_tokenized</th>\n",
       "      <th>reviewText_stopwords</th>\n",
       "      <th>reviewText_lemmatized</th>\n",
       "    </tr>\n",
       "  </thead>\n",
       "  <tbody>\n",
       "    <tr>\n",
       "      <th>0</th>\n",
       "      <td>i enjoy vintage books and movies so i enjoyed ...</td>\n",
       "      <td>i enjoy vintage books and movies so i enjoyed ...</td>\n",
       "      <td>[enjoy, vintage, books, movies, enjoyed, readi...</td>\n",
       "      <td>enjoy vintage books movies enjoyed reading boo...</td>\n",
       "      <td>[enjoy, vintage, book, movie, enjoyed, reading...</td>\n",
       "    </tr>\n",
       "    <tr>\n",
       "      <th>1</th>\n",
       "      <td>this book is a reissue of an old one; the auth...</td>\n",
       "      <td>this book is a reissue of an old one the autho...</td>\n",
       "      <td>[book, reissue, old, one, author, born, 1910, ...</td>\n",
       "      <td>book reissue old one author born 1910 era say ...</td>\n",
       "      <td>[book, reissue, old, one, author, born, 1910, ...</td>\n",
       "    </tr>\n",
       "    <tr>\n",
       "      <th>2</th>\n",
       "      <td>this was a fairly interesting read. it had old...</td>\n",
       "      <td>this was a fairly interesting read it had old ...</td>\n",
       "      <td>[fairly, interesting, read, old, style, termin...</td>\n",
       "      <td>fairly interesting read old style terminologyi...</td>\n",
       "      <td>[fairly, interesting, read, old, style, termin...</td>\n",
       "    </tr>\n",
       "    <tr>\n",
       "      <th>3</th>\n",
       "      <td>i'd never read any of the amy brewster mysteri...</td>\n",
       "      <td>id never read any of the amy brewster mysterie...</td>\n",
       "      <td>[id, never, read, amy, brewster, mysteries, on...</td>\n",
       "      <td>id never read amy brewster mysteries one reall...</td>\n",
       "      <td>[id, never, read, amy, brewster, mystery, one,...</td>\n",
       "    </tr>\n",
       "    <tr>\n",
       "      <th>4</th>\n",
       "      <td>if you like period pieces - clothing, lingo, y...</td>\n",
       "      <td>if you like period pieces  clothing lingo you ...</td>\n",
       "      <td>[like, period, pieces, clothing, lingo, enjoy,...</td>\n",
       "      <td>like period pieces clothing lingo enjoy myster...</td>\n",
       "      <td>[like, period, piece, clothing, lingo, enjoy, ...</td>\n",
       "    </tr>\n",
       "    <tr>\n",
       "      <th>5</th>\n",
       "      <td>a beautiful in-depth character description mak...</td>\n",
       "      <td>a beautiful indepth character description make...</td>\n",
       "      <td>[beautiful, indepth, character, description, m...</td>\n",
       "      <td>beautiful indepth character description makes ...</td>\n",
       "      <td>[beautiful, indepth, character, description, m...</td>\n",
       "    </tr>\n",
       "    <tr>\n",
       "      <th>6</th>\n",
       "      <td>i enjoyed this one tho i'm not sure why it's c...</td>\n",
       "      <td>i enjoyed this one tho im not sure why its cal...</td>\n",
       "      <td>[enjoyed, one, tho, im, sure, called, amy, bre...</td>\n",
       "      <td>enjoyed one tho im sure called amy brewster my...</td>\n",
       "      <td>[enjoyed, one, tho, im, sure, called, amy, bre...</td>\n",
       "    </tr>\n",
       "    <tr>\n",
       "      <th>7</th>\n",
       "      <td>never heard of amy brewster. but i don't need ...</td>\n",
       "      <td>never heard of amy brewster but i dont need to...</td>\n",
       "      <td>[never, heard, amy, brewster, dont, need, like...</td>\n",
       "      <td>never heard amy brewster dont need like amy br...</td>\n",
       "      <td>[never, heard, amy, brewster, dont, need, like...</td>\n",
       "    </tr>\n",
       "    <tr>\n",
       "      <th>8</th>\n",
       "      <td>darth maul working under cloak of darkness com...</td>\n",
       "      <td>darth maul working under cloak of darkness com...</td>\n",
       "      <td>[darth, maul, working, cloak, darkness, commit...</td>\n",
       "      <td>darth maul working cloak darkness committing s...</td>\n",
       "      <td>[darth, maul, working, cloak, darkness, commit...</td>\n",
       "    </tr>\n",
       "  </tbody>\n",
       "</table>\n",
       "</div>"
      ],
      "text/plain": [
       "                                          reviewText  \\\n",
       "0  i enjoy vintage books and movies so i enjoyed ...   \n",
       "1  this book is a reissue of an old one; the auth...   \n",
       "2  this was a fairly interesting read. it had old...   \n",
       "3  i'd never read any of the amy brewster mysteri...   \n",
       "4  if you like period pieces - clothing, lingo, y...   \n",
       "5  a beautiful in-depth character description mak...   \n",
       "6  i enjoyed this one tho i'm not sure why it's c...   \n",
       "7  never heard of amy brewster. but i don't need ...   \n",
       "8  darth maul working under cloak of darkness com...   \n",
       "\n",
       "                              reviewText_punctuation  \\\n",
       "0  i enjoy vintage books and movies so i enjoyed ...   \n",
       "1  this book is a reissue of an old one the autho...   \n",
       "2  this was a fairly interesting read it had old ...   \n",
       "3  id never read any of the amy brewster mysterie...   \n",
       "4  if you like period pieces  clothing lingo you ...   \n",
       "5  a beautiful indepth character description make...   \n",
       "6  i enjoyed this one tho im not sure why its cal...   \n",
       "7  never heard of amy brewster but i dont need to...   \n",
       "8  darth maul working under cloak of darkness com...   \n",
       "\n",
       "                                reviewText_tokenized  \\\n",
       "0  [enjoy, vintage, books, movies, enjoyed, readi...   \n",
       "1  [book, reissue, old, one, author, born, 1910, ...   \n",
       "2  [fairly, interesting, read, old, style, termin...   \n",
       "3  [id, never, read, amy, brewster, mysteries, on...   \n",
       "4  [like, period, pieces, clothing, lingo, enjoy,...   \n",
       "5  [beautiful, indepth, character, description, m...   \n",
       "6  [enjoyed, one, tho, im, sure, called, amy, bre...   \n",
       "7  [never, heard, amy, brewster, dont, need, like...   \n",
       "8  [darth, maul, working, cloak, darkness, commit...   \n",
       "\n",
       "                                reviewText_stopwords  \\\n",
       "0  enjoy vintage books movies enjoyed reading boo...   \n",
       "1  book reissue old one author born 1910 era say ...   \n",
       "2  fairly interesting read old style terminologyi...   \n",
       "3  id never read amy brewster mysteries one reall...   \n",
       "4  like period pieces clothing lingo enjoy myster...   \n",
       "5  beautiful indepth character description makes ...   \n",
       "6  enjoyed one tho im sure called amy brewster my...   \n",
       "7  never heard amy brewster dont need like amy br...   \n",
       "8  darth maul working cloak darkness committing s...   \n",
       "\n",
       "                               reviewText_lemmatized  \n",
       "0  [enjoy, vintage, book, movie, enjoyed, reading...  \n",
       "1  [book, reissue, old, one, author, born, 1910, ...  \n",
       "2  [fairly, interesting, read, old, style, termin...  \n",
       "3  [id, never, read, amy, brewster, mystery, one,...  \n",
       "4  [like, period, piece, clothing, lingo, enjoy, ...  \n",
       "5  [beautiful, indepth, character, description, m...  \n",
       "6  [enjoyed, one, tho, im, sure, called, amy, bre...  \n",
       "7  [never, heard, amy, brewster, dont, need, like...  \n",
       "8  [darth, maul, working, cloak, darkness, commit...  "
      ]
     },
     "execution_count": 76,
     "metadata": {},
     "output_type": "execute_result"
    }
   ],
   "source": [
    "#Lemmatization\n",
    "\n",
    "wn = nltk.WordNetLemmatizer()\n",
    "def lemmatizer(text):\n",
    "    text = [wn.lemmatize(word) for word in text]\n",
    "    return text\n",
    "\n",
    "data['reviewText_lemmatized'] = data['reviewText_tokenized'].apply(lambda x: lemmatizer(x))\n",
    "data[['reviewText', 'reviewText_punctuation', 'reviewText_tokenized','reviewText_stopwords','reviewText_lemmatized']][0:9]"
   ]
  },
  {
   "cell_type": "code",
   "execution_count": 77,
   "id": "87325ef2",
   "metadata": {},
   "outputs": [],
   "source": [
    "# Export Cleaned Kindle data\n",
    "data.head()\n",
    "data.to_csv('Kindle_Reviews_Cleaned.csv')"
   ]
  }
 ],
 "metadata": {
  "kernelspec": {
   "display_name": "Python 3 (ipykernel)",
   "language": "python",
   "name": "python3"
  },
  "language_info": {
   "codemirror_mode": {
    "name": "ipython",
    "version": 3
   },
   "file_extension": ".py",
   "mimetype": "text/x-python",
   "name": "python",
   "nbconvert_exporter": "python",
   "pygments_lexer": "ipython3",
   "version": "3.8.5"
  }
 },
 "nbformat": 4,
 "nbformat_minor": 5
}
