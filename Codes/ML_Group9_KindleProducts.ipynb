{
 "cells": [
  {
   "cell_type": "code",
   "execution_count": 1,
   "id": "1db30903",
   "metadata": {},
   "outputs": [],
   "source": [
    "import pandas as pd\n",
    "import seaborn as sns\n",
    "import matplotlib.pyplot as plt"
   ]
  },
  {
   "cell_type": "code",
   "execution_count": 2,
   "id": "52372ac2",
   "metadata": {},
   "outputs": [
    {
     "data": {
      "text/html": [
       "<div>\n",
       "<style scoped>\n",
       "    .dataframe tbody tr th:only-of-type {\n",
       "        vertical-align: middle;\n",
       "    }\n",
       "\n",
       "    .dataframe tbody tr th {\n",
       "        vertical-align: top;\n",
       "    }\n",
       "\n",
       "    .dataframe thead th {\n",
       "        text-align: right;\n",
       "    }\n",
       "</style>\n",
       "<table border=\"1\" class=\"dataframe\">\n",
       "  <thead>\n",
       "    <tr style=\"text-align: right;\">\n",
       "      <th></th>\n",
       "      <th>Unnamed: 0</th>\n",
       "      <th>asin</th>\n",
       "      <th>helpful</th>\n",
       "      <th>overall</th>\n",
       "      <th>reviewText</th>\n",
       "      <th>reviewTime</th>\n",
       "      <th>reviewerID</th>\n",
       "      <th>reviewerName</th>\n",
       "      <th>summary</th>\n",
       "      <th>unixReviewTime</th>\n",
       "    </tr>\n",
       "  </thead>\n",
       "  <tbody>\n",
       "    <tr>\n",
       "      <th>0</th>\n",
       "      <td>0</td>\n",
       "      <td>B000F83SZQ</td>\n",
       "      <td>[0, 0]</td>\n",
       "      <td>5</td>\n",
       "      <td>I enjoy vintage books and movies so I enjoyed ...</td>\n",
       "      <td>05 5, 2014</td>\n",
       "      <td>A1F6404F1VG29J</td>\n",
       "      <td>Avidreader</td>\n",
       "      <td>Nice vintage story</td>\n",
       "      <td>1399248000</td>\n",
       "    </tr>\n",
       "    <tr>\n",
       "      <th>1</th>\n",
       "      <td>1</td>\n",
       "      <td>B000F83SZQ</td>\n",
       "      <td>[2, 2]</td>\n",
       "      <td>4</td>\n",
       "      <td>This book is a reissue of an old one; the auth...</td>\n",
       "      <td>01 6, 2014</td>\n",
       "      <td>AN0N05A9LIJEQ</td>\n",
       "      <td>critters</td>\n",
       "      <td>Different...</td>\n",
       "      <td>1388966400</td>\n",
       "    </tr>\n",
       "    <tr>\n",
       "      <th>2</th>\n",
       "      <td>2</td>\n",
       "      <td>B000F83SZQ</td>\n",
       "      <td>[2, 2]</td>\n",
       "      <td>4</td>\n",
       "      <td>This was a fairly interesting read.  It had ol...</td>\n",
       "      <td>04 4, 2014</td>\n",
       "      <td>A795DMNCJILA6</td>\n",
       "      <td>dot</td>\n",
       "      <td>Oldie</td>\n",
       "      <td>1396569600</td>\n",
       "    </tr>\n",
       "    <tr>\n",
       "      <th>3</th>\n",
       "      <td>3</td>\n",
       "      <td>B000F83SZQ</td>\n",
       "      <td>[1, 1]</td>\n",
       "      <td>5</td>\n",
       "      <td>I'd never read any of the Amy Brewster mysteri...</td>\n",
       "      <td>02 19, 2014</td>\n",
       "      <td>A1FV0SX13TWVXQ</td>\n",
       "      <td>Elaine H. Turley \"Montana Songbird\"</td>\n",
       "      <td>I really liked it.</td>\n",
       "      <td>1392768000</td>\n",
       "    </tr>\n",
       "    <tr>\n",
       "      <th>4</th>\n",
       "      <td>4</td>\n",
       "      <td>B000F83SZQ</td>\n",
       "      <td>[0, 1]</td>\n",
       "      <td>4</td>\n",
       "      <td>If you like period pieces - clothing, lingo, y...</td>\n",
       "      <td>03 19, 2014</td>\n",
       "      <td>A3SPTOKDG7WBLN</td>\n",
       "      <td>Father Dowling Fan</td>\n",
       "      <td>Period Mystery</td>\n",
       "      <td>1395187200</td>\n",
       "    </tr>\n",
       "  </tbody>\n",
       "</table>\n",
       "</div>"
      ],
      "text/plain": [
       "   Unnamed: 0        asin helpful  overall  \\\n",
       "0           0  B000F83SZQ  [0, 0]        5   \n",
       "1           1  B000F83SZQ  [2, 2]        4   \n",
       "2           2  B000F83SZQ  [2, 2]        4   \n",
       "3           3  B000F83SZQ  [1, 1]        5   \n",
       "4           4  B000F83SZQ  [0, 1]        4   \n",
       "\n",
       "                                          reviewText   reviewTime  \\\n",
       "0  I enjoy vintage books and movies so I enjoyed ...   05 5, 2014   \n",
       "1  This book is a reissue of an old one; the auth...   01 6, 2014   \n",
       "2  This was a fairly interesting read.  It had ol...   04 4, 2014   \n",
       "3  I'd never read any of the Amy Brewster mysteri...  02 19, 2014   \n",
       "4  If you like period pieces - clothing, lingo, y...  03 19, 2014   \n",
       "\n",
       "       reviewerID                         reviewerName             summary  \\\n",
       "0  A1F6404F1VG29J                           Avidreader  Nice vintage story   \n",
       "1   AN0N05A9LIJEQ                             critters        Different...   \n",
       "2   A795DMNCJILA6                                  dot               Oldie   \n",
       "3  A1FV0SX13TWVXQ  Elaine H. Turley \"Montana Songbird\"  I really liked it.   \n",
       "4  A3SPTOKDG7WBLN                   Father Dowling Fan      Period Mystery   \n",
       "\n",
       "   unixReviewTime  \n",
       "0      1399248000  \n",
       "1      1388966400  \n",
       "2      1396569600  \n",
       "3      1392768000  \n",
       "4      1395187200  "
      ]
     },
     "execution_count": 2,
     "metadata": {},
     "output_type": "execute_result"
    }
   ],
   "source": [
    "data = pd.read_csv(\"kindle_reviews.csv\")\n",
    "data.head()"
   ]
  },
  {
   "cell_type": "code",
   "execution_count": 3,
   "id": "1e77dc1c",
   "metadata": {},
   "outputs": [],
   "source": [
    "data = data.dropna()"
   ]
  },
  {
   "cell_type": "code",
   "execution_count": 4,
   "id": "deb3340f",
   "metadata": {},
   "outputs": [
    {
     "name": "stdout",
     "output_type": "stream",
     "text": [
      "length of data is 978780\n"
     ]
    }
   ],
   "source": [
    "print('length of data is', len(data))"
   ]
  },
  {
   "cell_type": "code",
   "execution_count": 5,
   "id": "ee51610b",
   "metadata": {},
   "outputs": [
    {
     "name": "stdout",
     "output_type": "stream",
     "text": [
      "<class 'pandas.core.frame.DataFrame'>\n",
      "Int64Index: 978780 entries, 0 to 982618\n",
      "Data columns (total 10 columns):\n",
      " #   Column          Non-Null Count   Dtype \n",
      "---  ------          --------------   ----- \n",
      " 0   Unnamed: 0      978780 non-null  int64 \n",
      " 1   asin            978780 non-null  object\n",
      " 2   helpful         978780 non-null  object\n",
      " 3   overall         978780 non-null  int64 \n",
      " 4   reviewText      978780 non-null  object\n",
      " 5   reviewTime      978780 non-null  object\n",
      " 6   reviewerID      978780 non-null  object\n",
      " 7   reviewerName    978780 non-null  object\n",
      " 8   summary         978780 non-null  object\n",
      " 9   unixReviewTime  978780 non-null  int64 \n",
      "dtypes: int64(3), object(7)\n",
      "memory usage: 82.1+ MB\n"
     ]
    }
   ],
   "source": [
    "data.info()"
   ]
  },
  {
   "cell_type": "code",
   "execution_count": 6,
   "id": "449e10a0",
   "metadata": {},
   "outputs": [],
   "source": [
    "data[\"reviewTime\"] = pd.to_datetime(data[\"reviewTime\"])"
   ]
  },
  {
   "cell_type": "code",
   "execution_count": 7,
   "id": "8b72d364",
   "metadata": {},
   "outputs": [
    {
     "name": "stdout",
     "output_type": "stream",
     "text": [
      "Number of Unique Products in the Kindle Category = 61932\n"
     ]
    }
   ],
   "source": [
    "products = data['overall'].groupby(data['asin']).count()\n",
    "print(\"Number of Unique Products in the Kindle Category = {}\".format(products.count()))"
   ]
  },
  {
   "cell_type": "code",
   "execution_count": 8,
   "id": "178c7383",
   "metadata": {},
   "outputs": [
    {
     "name": "stdout",
     "output_type": "stream",
     "text": [
      "Top 10 Reviewed Products:\n",
      "\n",
      "asin\n",
      "B00BTIDW4S    781\n",
      "B006GWO5WK    647\n",
      "B00BT0J8ZS    516\n",
      "B00JDYC5OI    502\n",
      "B00H0V069M    481\n",
      "B00BTIDXVU    454\n",
      "B00BSX4U04    452\n",
      "B00BTIDOO6    428\n",
      "B007R5YDYA    422\n",
      "B005ME39HU    394\n",
      "Name: overall, dtype: int64\n",
      "\n",
      "Most Reviewed Product, B00BTIDW4S - has 781 reviews.\n"
     ]
    }
   ],
   "source": [
    "# Top 10 Reviewed Products\n",
    "sorted_products = products.sort_values(ascending=False)\n",
    "\n",
    "print(\"Top 10 Reviewed Products:\\n\")\n",
    "print(sorted_products[:10], end='\\n\\n')\n",
    "print('Most Reviewed Product, B00BTIDW4S - has {} reviews.'.format(products.max()))"
   ]
  },
  {
   "cell_type": "code",
   "execution_count": 9,
   "id": "ac945d76",
   "metadata": {},
   "outputs": [],
   "source": [
    "# Most Reviewed Kindle Product is a The Mating: The Original Law of the Lycans Story (B00BTIDW4S)\n",
    "# Second Most Reviewed Kindle Product is the Amazon Kindle 9W PowerFast Adapter for Accelerated Charging (B006GWO5WK)\n",
    "# Third Most Reviewer Kindle Product is Bonded (Law of the Lycans Book 4)(B00BT0J8ZS)"
   ]
  },
  {
   "cell_type": "code",
   "execution_count": 10,
   "id": "6a8487b2",
   "metadata": {},
   "outputs": [
    {
     "name": "stdout",
     "output_type": "stream",
     "text": [
      "Least 10 Reviewed Products:\n",
      "\n",
      "asin\n",
      "B005C5YZ86    394\n",
      "B005DOK8NW    390\n",
      "B00CCRTFSC    390\n",
      "B00KF0URBM    354\n",
      "B004E10W0E    340\n",
      "             ... \n",
      "B00BD9ARAU      2\n",
      "B008681Y30      1\n",
      "B0086824IE      1\n",
      "B00K3LN3E6      1\n",
      "B0082UPBWC      1\n",
      "Name: overall, Length: 61922, dtype: int64\n",
      "\n",
      "Least Reviewed Products are: B008681Y30, B0086824IE, B00K3LN3E6, B0082UPBWC that have 1 review.\n"
     ]
    }
   ],
   "source": [
    "# Least 10 Reviewed Products\n",
    "print(\"Least 10 Reviewed Products:\\n\")\n",
    "print(sorted_products[10:], end='\\n\\n')\n",
    "print('Least Reviewed Products are: B008681Y30, B0086824IE, B00K3LN3E6, B0082UPBWC that have {} review.'.format(products.min()))"
   ]
  },
  {
   "cell_type": "code",
   "execution_count": 11,
   "id": "5ed24ca4",
   "metadata": {},
   "outputs": [],
   "source": [
    "# The 4 Least Reviewed Kindle Products that received only 1 Review were \n",
    "# 2-Year Protection Plan plus Accident Protection for Kindle Fire HD 8.9\" 4G (B008681Y30)\n",
    "# 2-Year Protection Plan plus Accident Coverage for Kindle Fire (Previous Generation) (B0086824IE)\n",
    "# The Ultimate Guide to Productivity: How To Get More Done In Less Time, And Stop Feeling Overwhelmed (High Achievers) (B00K3LN3E6)\n",
    "# The Yellow Wallpaper (English Edition) (B0082UPBWC)"
   ]
  },
  {
   "cell_type": "code",
   "execution_count": null,
   "id": "b0d34142",
   "metadata": {},
   "outputs": [],
   "source": []
  }
 ],
 "metadata": {
  "kernelspec": {
   "display_name": "Python 3 (ipykernel)",
   "language": "python",
   "name": "python3"
  },
  "language_info": {
   "codemirror_mode": {
    "name": "ipython",
    "version": 3
   },
   "file_extension": ".py",
   "mimetype": "text/x-python",
   "name": "python",
   "nbconvert_exporter": "python",
   "pygments_lexer": "ipython3",
   "version": "3.8.5"
  }
 },
 "nbformat": 4,
 "nbformat_minor": 5
}
