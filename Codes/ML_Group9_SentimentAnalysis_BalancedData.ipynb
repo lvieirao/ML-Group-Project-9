{
 "cells": [
  {
   "cell_type": "code",
   "execution_count": 1,
   "id": "67142f0c",
   "metadata": {},
   "outputs": [],
   "source": [
    "import re\n",
    "import numpy as np\n",
    "import pandas as pd\n",
    "# plotting\n",
    "import seaborn as sns\n",
    "\n",
    "import matplotlib.pyplot as plt\n",
    "# nltk\n",
    "from nltk.stem import WordNetLemmatizer\n",
    "# sklearn\n",
    "from sklearn.svm import LinearSVC\n",
    "from sklearn.naive_bayes import BernoulliNB\n",
    "from sklearn.linear_model import LogisticRegression\n",
    "from sklearn.model_selection import train_test_split\n",
    "from sklearn.feature_extraction.text import TfidfVectorizer\n",
    "from sklearn.metrics import confusion_matrix, classification_report\n"
   ]
  },
  {
   "cell_type": "code",
   "execution_count": 2,
   "id": "dc4501f5",
   "metadata": {
    "scrolled": true
   },
   "outputs": [
    {
     "data": {
      "text/html": [
       "<div>\n",
       "<style scoped>\n",
       "    .dataframe tbody tr th:only-of-type {\n",
       "        vertical-align: middle;\n",
       "    }\n",
       "\n",
       "    .dataframe tbody tr th {\n",
       "        vertical-align: top;\n",
       "    }\n",
       "\n",
       "    .dataframe thead th {\n",
       "        text-align: right;\n",
       "    }\n",
       "</style>\n",
       "<table border=\"1\" class=\"dataframe\">\n",
       "  <thead>\n",
       "    <tr style=\"text-align: right;\">\n",
       "      <th></th>\n",
       "      <th>Unnamed: 0</th>\n",
       "      <th>Unnamed: 0.1</th>\n",
       "      <th>asin</th>\n",
       "      <th>helpful</th>\n",
       "      <th>overall</th>\n",
       "      <th>reviewText</th>\n",
       "      <th>reviewTime</th>\n",
       "      <th>reviewerID</th>\n",
       "      <th>reviewerName</th>\n",
       "      <th>unixReviewTime</th>\n",
       "      <th>reviewText_punctuation</th>\n",
       "      <th>reviewText_stopwords</th>\n",
       "      <th>reviewText_tokenized</th>\n",
       "      <th>reviewText_lemmatized</th>\n",
       "    </tr>\n",
       "  </thead>\n",
       "  <tbody>\n",
       "    <tr>\n",
       "      <th>0</th>\n",
       "      <td>0</td>\n",
       "      <td>0</td>\n",
       "      <td>B000F83SZQ</td>\n",
       "      <td>[0, 0]</td>\n",
       "      <td>5</td>\n",
       "      <td>i enjoy vintage books and movies so i enjoyed ...</td>\n",
       "      <td>05 5, 2014</td>\n",
       "      <td>A1F6404F1VG29J</td>\n",
       "      <td>Avidreader</td>\n",
       "      <td>1399248000</td>\n",
       "      <td>i enjoy vintage books and movies so i enjoyed ...</td>\n",
       "      <td>enjoy vintage books movies enjoyed reading boo...</td>\n",
       "      <td>['enjoy', 'vintage', 'books', 'movies', 'enjoy...</td>\n",
       "      <td>['enjoy', 'vintage', 'book', 'movie', 'enjoyed...</td>\n",
       "    </tr>\n",
       "    <tr>\n",
       "      <th>1</th>\n",
       "      <td>1</td>\n",
       "      <td>1</td>\n",
       "      <td>B000F83SZQ</td>\n",
       "      <td>[2, 2]</td>\n",
       "      <td>4</td>\n",
       "      <td>this book is a reissue of an old one; the auth...</td>\n",
       "      <td>01 6, 2014</td>\n",
       "      <td>AN0N05A9LIJEQ</td>\n",
       "      <td>critters</td>\n",
       "      <td>1388966400</td>\n",
       "      <td>this book is a reissue of an old one the autho...</td>\n",
       "      <td>book reissue old one author born 1910 era say ...</td>\n",
       "      <td>['book', 'reissue', 'old', 'one', 'author', 'b...</td>\n",
       "      <td>['book', 'reissue', 'old', 'one', 'author', 'b...</td>\n",
       "    </tr>\n",
       "    <tr>\n",
       "      <th>2</th>\n",
       "      <td>2</td>\n",
       "      <td>2</td>\n",
       "      <td>B000F83SZQ</td>\n",
       "      <td>[2, 2]</td>\n",
       "      <td>4</td>\n",
       "      <td>this was a fairly interesting read. it had old...</td>\n",
       "      <td>04 4, 2014</td>\n",
       "      <td>A795DMNCJILA6</td>\n",
       "      <td>dot</td>\n",
       "      <td>1396569600</td>\n",
       "      <td>this was a fairly interesting read it had old ...</td>\n",
       "      <td>fairly interesting read old style terminologyi...</td>\n",
       "      <td>['fairly', 'interesting', 'read', 'old', 'styl...</td>\n",
       "      <td>['fairly', 'interesting', 'read', 'old', 'styl...</td>\n",
       "    </tr>\n",
       "    <tr>\n",
       "      <th>3</th>\n",
       "      <td>3</td>\n",
       "      <td>3</td>\n",
       "      <td>B000F83SZQ</td>\n",
       "      <td>[1, 1]</td>\n",
       "      <td>5</td>\n",
       "      <td>i'd never read any of the amy brewster mysteri...</td>\n",
       "      <td>02 19, 2014</td>\n",
       "      <td>A1FV0SX13TWVXQ</td>\n",
       "      <td>Elaine H. Turley \"Montana Songbird\"</td>\n",
       "      <td>1392768000</td>\n",
       "      <td>id never read any of the amy brewster mysterie...</td>\n",
       "      <td>id never read amy brewster mysteries one reall...</td>\n",
       "      <td>['id', 'never', 'read', 'amy', 'brewster', 'my...</td>\n",
       "      <td>['id', 'never', 'read', 'amy', 'brewster', 'my...</td>\n",
       "    </tr>\n",
       "    <tr>\n",
       "      <th>4</th>\n",
       "      <td>4</td>\n",
       "      <td>4</td>\n",
       "      <td>B000F83SZQ</td>\n",
       "      <td>[0, 1]</td>\n",
       "      <td>4</td>\n",
       "      <td>if you like period pieces - clothing, lingo, y...</td>\n",
       "      <td>03 19, 2014</td>\n",
       "      <td>A3SPTOKDG7WBLN</td>\n",
       "      <td>Father Dowling Fan</td>\n",
       "      <td>1395187200</td>\n",
       "      <td>if you like period pieces  clothing lingo you ...</td>\n",
       "      <td>like period pieces clothing lingo enjoy myster...</td>\n",
       "      <td>['like', 'period', 'pieces', 'clothing', 'ling...</td>\n",
       "      <td>['like', 'period', 'piece', 'clothing', 'lingo...</td>\n",
       "    </tr>\n",
       "  </tbody>\n",
       "</table>\n",
       "</div>"
      ],
      "text/plain": [
       "   Unnamed: 0  Unnamed: 0.1        asin helpful  overall  \\\n",
       "0           0             0  B000F83SZQ  [0, 0]        5   \n",
       "1           1             1  B000F83SZQ  [2, 2]        4   \n",
       "2           2             2  B000F83SZQ  [2, 2]        4   \n",
       "3           3             3  B000F83SZQ  [1, 1]        5   \n",
       "4           4             4  B000F83SZQ  [0, 1]        4   \n",
       "\n",
       "                                          reviewText   reviewTime  \\\n",
       "0  i enjoy vintage books and movies so i enjoyed ...   05 5, 2014   \n",
       "1  this book is a reissue of an old one; the auth...   01 6, 2014   \n",
       "2  this was a fairly interesting read. it had old...   04 4, 2014   \n",
       "3  i'd never read any of the amy brewster mysteri...  02 19, 2014   \n",
       "4  if you like period pieces - clothing, lingo, y...  03 19, 2014   \n",
       "\n",
       "       reviewerID                         reviewerName  unixReviewTime  \\\n",
       "0  A1F6404F1VG29J                           Avidreader      1399248000   \n",
       "1   AN0N05A9LIJEQ                             critters      1388966400   \n",
       "2   A795DMNCJILA6                                  dot      1396569600   \n",
       "3  A1FV0SX13TWVXQ  Elaine H. Turley \"Montana Songbird\"      1392768000   \n",
       "4  A3SPTOKDG7WBLN                   Father Dowling Fan      1395187200   \n",
       "\n",
       "                              reviewText_punctuation  \\\n",
       "0  i enjoy vintage books and movies so i enjoyed ...   \n",
       "1  this book is a reissue of an old one the autho...   \n",
       "2  this was a fairly interesting read it had old ...   \n",
       "3  id never read any of the amy brewster mysterie...   \n",
       "4  if you like period pieces  clothing lingo you ...   \n",
       "\n",
       "                                reviewText_stopwords  \\\n",
       "0  enjoy vintage books movies enjoyed reading boo...   \n",
       "1  book reissue old one author born 1910 era say ...   \n",
       "2  fairly interesting read old style terminologyi...   \n",
       "3  id never read amy brewster mysteries one reall...   \n",
       "4  like period pieces clothing lingo enjoy myster...   \n",
       "\n",
       "                                reviewText_tokenized  \\\n",
       "0  ['enjoy', 'vintage', 'books', 'movies', 'enjoy...   \n",
       "1  ['book', 'reissue', 'old', 'one', 'author', 'b...   \n",
       "2  ['fairly', 'interesting', 'read', 'old', 'styl...   \n",
       "3  ['id', 'never', 'read', 'amy', 'brewster', 'my...   \n",
       "4  ['like', 'period', 'pieces', 'clothing', 'ling...   \n",
       "\n",
       "                               reviewText_lemmatized  \n",
       "0  ['enjoy', 'vintage', 'book', 'movie', 'enjoyed...  \n",
       "1  ['book', 'reissue', 'old', 'one', 'author', 'b...  \n",
       "2  ['fairly', 'interesting', 'read', 'old', 'styl...  \n",
       "3  ['id', 'never', 'read', 'amy', 'brewster', 'my...  \n",
       "4  ['like', 'period', 'piece', 'clothing', 'lingo...  "
      ]
     },
     "execution_count": 2,
     "metadata": {},
     "output_type": "execute_result"
    }
   ],
   "source": [
    "df = pd.read_csv(\"Kindle_Reviews_Cleaned.csv\")\n",
    "df.head()"
   ]
  },
  {
   "cell_type": "code",
   "execution_count": 3,
   "id": "5fd92c97",
   "metadata": {},
   "outputs": [],
   "source": [
    "#make column about rating\n",
    "#Adding the sentiments column (rating of 1,2,3 is negative (represented by 0))\n",
    "df['sentiments'] = df.overall.apply(lambda x: 0 if x in [1, 2, 3] else 1)"
   ]
  },
  {
   "cell_type": "code",
   "execution_count": 4,
   "id": "c6f31352",
   "metadata": {},
   "outputs": [],
   "source": [
    "#\"taking one fourth data so we can run on our machine easily\"\n",
    "#make a smaller sample\n",
    "np.random.seed(34)\n",
    "dfsample = df.sample(frac = 0.25)"
   ]
  },
  {
   "cell_type": "code",
   "execution_count": 5,
   "id": "fec6cc2d",
   "metadata": {},
   "outputs": [
    {
     "data": {
      "text/plain": [
       "Index(['Unnamed: 0', 'Unnamed: 0.1', 'asin', 'helpful', 'overall',\n",
       "       'reviewText', 'reviewTime', 'reviewerID', 'reviewerName',\n",
       "       'unixReviewTime', 'reviewText_punctuation', 'reviewText_stopwords',\n",
       "       'reviewText_tokenized', 'reviewText_lemmatized', 'sentiments'],\n",
       "      dtype='object')"
      ]
     },
     "execution_count": 5,
     "metadata": {},
     "output_type": "execute_result"
    }
   ],
   "source": [
    "dfsample.columns"
   ]
  },
  {
   "cell_type": "code",
   "execution_count": 6,
   "id": "35c02e3c",
   "metadata": {},
   "outputs": [
    {
     "data": {
      "text/plain": [
       "(245655, 15)"
      ]
     },
     "execution_count": 6,
     "metadata": {},
     "output_type": "execute_result"
    }
   ],
   "source": [
    "dfsample. shape"
   ]
  },
  {
   "cell_type": "code",
   "execution_count": 7,
   "id": "904f0315",
   "metadata": {},
   "outputs": [
    {
     "name": "stdout",
     "output_type": "stream",
     "text": [
      "<class 'pandas.core.frame.DataFrame'>\n",
      "Int64Index: 245655 entries, 932513 to 140838\n",
      "Data columns (total 15 columns):\n",
      " #   Column                  Non-Null Count   Dtype \n",
      "---  ------                  --------------   ----- \n",
      " 0   Unnamed: 0              245655 non-null  int64 \n",
      " 1   Unnamed: 0.1            245655 non-null  int64 \n",
      " 2   asin                    245655 non-null  object\n",
      " 3   helpful                 245655 non-null  object\n",
      " 4   overall                 245655 non-null  int64 \n",
      " 5   reviewText              245649 non-null  object\n",
      " 6   reviewTime              245655 non-null  object\n",
      " 7   reviewerID              245655 non-null  object\n",
      " 8   reviewerName            244693 non-null  object\n",
      " 9   unixReviewTime          245655 non-null  int64 \n",
      " 10  reviewText_punctuation  245649 non-null  object\n",
      " 11  reviewText_stopwords    245649 non-null  object\n",
      " 12  reviewText_tokenized    245655 non-null  object\n",
      " 13  reviewText_lemmatized   245655 non-null  object\n",
      " 14  sentiments              245655 non-null  int64 \n",
      "dtypes: int64(5), object(10)\n",
      "memory usage: 30.0+ MB\n"
     ]
    }
   ],
   "source": [
    "dfsample.info()"
   ]
  },
  {
   "cell_type": "code",
   "execution_count": 8,
   "id": "1ab8bdd9",
   "metadata": {},
   "outputs": [
    {
     "data": {
      "text/plain": [
       "Unnamed: 0                 int64\n",
       "Unnamed: 0.1               int64\n",
       "asin                      object\n",
       "helpful                   object\n",
       "overall                    int64\n",
       "reviewText                object\n",
       "reviewTime                object\n",
       "reviewerID                object\n",
       "reviewerName              object\n",
       "unixReviewTime             int64\n",
       "reviewText_punctuation    object\n",
       "reviewText_stopwords      object\n",
       "reviewText_tokenized      object\n",
       "reviewText_lemmatized     object\n",
       "sentiments                 int64\n",
       "dtype: object"
      ]
     },
     "execution_count": 8,
     "metadata": {},
     "output_type": "execute_result"
    }
   ],
   "source": [
    "dfsample.dtypes"
   ]
  },
  {
   "cell_type": "code",
   "execution_count": 9,
   "id": "abe1d869",
   "metadata": {},
   "outputs": [
    {
     "data": {
      "text/plain": [
       "968"
      ]
     },
     "execution_count": 9,
     "metadata": {},
     "output_type": "execute_result"
    }
   ],
   "source": [
    "np.sum(dfsample.isnull().any(axis=1))"
   ]
  },
  {
   "cell_type": "code",
   "execution_count": 10,
   "id": "9e89edbb",
   "metadata": {
    "scrolled": true
   },
   "outputs": [
    {
     "data": {
      "image/png": "[encoded data removed]",
      "text/plain": [
       "<Figure size 720x432 with 1 Axes>"
      ]
     },
     "metadata": {
      "needs_background": "light"
     },
     "output_type": "display_data"
    }
   ],
   "source": [
    "category_dist = dfsample['sentiments'].value_counts()\n",
    "\n",
    "plt.figure(figsize=(10,6))\n",
    "my_colors = ['g', 'r']\n",
    "category_dist.plot(kind='bar', color=my_colors)\n",
    "plt.grid()\n",
    "plt.xlabel(\"overall\")\n",
    "plt.ylabel(\"Number of Reviews\")\n",
    "plt.title(\"Distribution of Reviews\")\n",
    "plt.show()"
   ]
  },
  {
   "cell_type": "code",
   "execution_count": 11,
   "id": "bf2196f7",
   "metadata": {},
   "outputs": [],
   "source": [
    "positives = dfsample[dfsample['sentiments'] == 1]\n",
    "negatives = dfsample[dfsample['sentiments'] == 0]"
   ]
  },
  {
   "cell_type": "code",
   "execution_count": 12,
   "id": "c600aa9f",
   "metadata": {
    "scrolled": true
   },
   "outputs": [
    {
     "data": {
      "text/plain": [
       "<bound method DataFrame.count of         Unnamed: 0  Unnamed: 0.1        asin  helpful  overall  \\\n",
       "932513      932513        932513  B00KCS1EUA   [1, 1]        3   \n",
       "551150      551150        551150  B00DDD8L6G   [0, 0]        3   \n",
       "28744        28744         28744  B0044DF5KO   [0, 0]        3   \n",
       "193861      193861        193861  B007KKW9GQ   [0, 0]        3   \n",
       "308371      308371        308371  B009ED2BJ2   [1, 2]        3   \n",
       "...            ...           ...         ...      ...      ...   \n",
       "249096      249096        249096  B008DS35CQ   [0, 0]        3   \n",
       "33015        33015         33015  B004AYDGVM  [5, 11]        2   \n",
       "629903      629903        629903  B00ET7Q4OG   [0, 0]        3   \n",
       "417788      417788        417788  B00B7N2ECG   [0, 1]        2   \n",
       "770782      770782        770782  B00HHLH8Z0   [0, 0]        3   \n",
       "\n",
       "                                               reviewText   reviewTime  \\\n",
       "932513  3.5 starsthis short story is the start of a ne...  06 28, 2014   \n",
       "551150  an ok read. liked the characters. a little too...  09 18, 2013   \n",
       "28744   crimzon & clover i is a short story about a yo...  01 25, 2014   \n",
       "193861  this was real good, but he did not add math 24...   01 5, 2014   \n",
       "308371  other than the incredible setting, most of the...  12 10, 2013   \n",
       "...                                                   ...          ...   \n",
       "249096  once again this story would of been better if ...  02 21, 2014   \n",
       "33015   i was a bit skeptical about reading this book....   03 1, 2012   \n",
       "629903  i missed that it said short story and was rude...   05 8, 2014   \n",
       "417788  the book started off good but was drug out for...  12 10, 2013   \n",
       "770782  there are some really great parts and then jus...  06 15, 2014   \n",
       "\n",
       "            reviewerID              reviewerName  unixReviewTime  \\\n",
       "932513  A21FHW35VB84DV                   Debra E      1403913600   \n",
       "551150  A12PR5SUS3MAWC                      Char      1379462400   \n",
       "28744    ALX4J0SHREP0J                 Blue Flox      1390608000   \n",
       "193861  A2MJ03J7EHVSCI            DON   THORNTON      1388880000   \n",
       "308371  A24BM1FIA3LKUW                     nancy      1386633600   \n",
       "...                ...                       ...             ...   \n",
       "249096  A3OGSXZ69GKY2S                     Marie      1392940800   \n",
       "33015    AHQHUBE9H5TGN  Morris \"Likes to Review\"      1330560000   \n",
       "629903   A6YMX25GX8XE9         Dorothy Gillispie      1399507200   \n",
       "417788  A3M38TT7QH8WBS                Movie-Buff      1386633600   \n",
       "770782  A3A6WRN2IONFBQ     SilkeeeeeeReads \"VHB\"      1402790400   \n",
       "\n",
       "                                   reviewText_punctuation  \\\n",
       "932513  35 starsthis short story is the start of a new...   \n",
       "551150  an ok read liked the characters a little too s...   \n",
       "28744   crimzon  clover i is a short story about a you...   \n",
       "193861  this was real good but he did not add math 24 ...   \n",
       "308371  other than the incredible setting most of the ...   \n",
       "...                                                   ...   \n",
       "249096  once again this story would of been better if ...   \n",
       "33015   i was a bit skeptical about reading this book ...   \n",
       "629903  i missed that it said short story and was rude...   \n",
       "417788  the book started off good but was drug out for...   \n",
       "770782  there are some really great parts and then jus...   \n",
       "\n",
       "                                     reviewText_stopwords  \\\n",
       "932513  35 starsthis short story start new wolf shifte...   \n",
       "551150  ok read liked characters little short try book...   \n",
       "28744   crimzon clover short story young huntress find...   \n",
       "193861  real good add math 24 30 tells jesus come back...   \n",
       "308371  incredible setting book dull uninteresting typ...   \n",
       "...                                                   ...   \n",
       "249096  story would better writer would write story hu...   \n",
       "33015   bit skeptical reading book book description if...   \n",
       "629903  missed said short story rudely interrupted cam...   \n",
       "417788  book started good drug halfway found flipping ...   \n",
       "770782  really great parts okay parts probably much lo...   \n",
       "\n",
       "                                     reviewText_tokenized  \\\n",
       "932513  ['35', 'starsthis', 'short', 'story', 'start',...   \n",
       "551150  ['ok', 'read', 'liked', 'characters', 'little'...   \n",
       "28744   ['crimzon', 'clover', 'short', 'story', 'young...   \n",
       "193861  ['real', 'good', 'add', 'math', '24', '30', 't...   \n",
       "308371  ['incredible', 'setting', 'book', 'dull', 'uni...   \n",
       "...                                                   ...   \n",
       "249096  ['story', 'would', 'better', 'writer', 'would'...   \n",
       "33015   ['bit', 'skeptical', 'reading', 'book', 'book'...   \n",
       "629903  ['missed', 'said', 'short', 'story', 'rudely',...   \n",
       "417788  ['book', 'started', 'good', 'drug', 'halfway',...   \n",
       "770782  ['really', 'great', 'parts', 'okay', 'parts', ...   \n",
       "\n",
       "                                    reviewText_lemmatized  sentiments  \n",
       "932513  ['35', 'starsthis', 'short', 'story', 'start',...           0  \n",
       "551150  ['ok', 'read', 'liked', 'character', 'little',...           0  \n",
       "28744   ['crimzon', 'clover', 'short', 'story', 'young...           0  \n",
       "193861  ['real', 'good', 'add', 'math', '24', '30', 't...           0  \n",
       "308371  ['incredible', 'setting', 'book', 'dull', 'uni...           0  \n",
       "...                                                   ...         ...  \n",
       "249096  ['story', 'would', 'better', 'writer', 'would'...           0  \n",
       "33015   ['bit', 'skeptical', 'reading', 'book', 'book'...           0  \n",
       "629903  ['missed', 'said', 'short', 'story', 'rudely',...           0  \n",
       "417788  ['book', 'started', 'good', 'drug', 'halfway',...           0  \n",
       "770782  ['really', 'great', 'part', 'okay', 'part', 'p...           0  \n",
       "\n",
       "[38225 rows x 15 columns]>"
      ]
     },
     "execution_count": 12,
     "metadata": {},
     "output_type": "execute_result"
    }
   ],
   "source": [
    "negatives.count"
   ]
  },
  {
   "cell_type": "code",
   "execution_count": 13,
   "id": "93935b1d",
   "metadata": {
    "scrolled": true
   },
   "outputs": [
    {
     "data": {
      "text/plain": [
       "<bound method DataFrame.count of         Unnamed: 0  Unnamed: 0.1        asin helpful  overall  \\\n",
       "398184      398184        398184  B00AWGED8W  [2, 4]        5   \n",
       "611335      611335        611335  B00EDYFZVS  [0, 0]        4   \n",
       "978601      978601        978601  B00LLXRJR2  [1, 1]        5   \n",
       "695138      695138        695138  B00G4LJE74  [0, 0]        5   \n",
       "296787      296787        296787  B0095VONZS  [0, 0]        4   \n",
       "...            ...           ...         ...     ...      ...   \n",
       "868956      868956        868956  B00J47HAUS  [0, 0]        4   \n",
       "243693      243693        243693  B008AP8VS0  [0, 2]        5   \n",
       "947574      947574        947574  B00KOG0B8Q  [4, 4]        5   \n",
       "20977        20977         20977  B003U4WB7I  [2, 2]        5   \n",
       "140838      140838        140838  B006ETE7X2  [1, 1]        4   \n",
       "\n",
       "                                               reviewText   reviewTime  \\\n",
       "398184  i couldn't get enough of colin mitchell, a col...  04 21, 2014   \n",
       "611335  i read this after i read the first book in the...   02 4, 2014   \n",
       "978601  this book is a true treasure! i'm verry happy ...  07 11, 2014   \n",
       "695138  well, book one is finished and i am not anywhe...  01 17, 2014   \n",
       "296787  i really wish it was was longer. i want to kno...  03 15, 2013   \n",
       "...                                                   ...          ...   \n",
       "868956  lily hasn&#8217;t had the easiest life. adopte...   06 6, 2014   \n",
       "243693  6:34 pm i can hear the dogs scratching at the ...  07 26, 2012   \n",
       "947574  somehow, author stephen knight manages to pack...   06 4, 2014   \n",
       "20977   there seems to be a lot of mixed reviews on th...  07 14, 2013   \n",
       "140838  twice in a lifetimetwenty-eight year old old i...   03 3, 2012   \n",
       "\n",
       "            reviewerID         reviewerName  unixReviewTime  \\\n",
       "398184   A14QRGY3FE7ZB      DEBORAH SANCHEZ      1398038400   \n",
       "611335   AOCP5SS7DFB09            Christean      1391472000   \n",
       "978601  A3JEUMETWH447K             Kostadin      1405036800   \n",
       "695138  A1H4K2FVKAM4V6      David L Coffing      1389916800   \n",
       "296787   AHMJQ66XNCOJI  maigen marie miller      1363305600   \n",
       "...                ...                  ...             ...   \n",
       "868956  A35CAA66C3WCTS   Brunette Librarian      1402012800   \n",
       "243693   A6C8ZY0IDIY0V              M. Kirk      1343260800   \n",
       "947574  A15IF7NAB1Y196           zoomreader      1401840000   \n",
       "20977    AVIO0UMM54K90            bunnygirl      1373760000   \n",
       "140838   AAEIK0DZ1F537               Hotcha      1330732800   \n",
       "\n",
       "                                   reviewText_punctuation  \\\n",
       "398184  i couldnt get enough of colin mitchell a colle...   \n",
       "611335  i read this after i read the first book in the...   \n",
       "978601  this book is a true treasure im verry happy i ...   \n",
       "695138  well book one is finished and i am not anywher...   \n",
       "296787  i really wish it was was longer i want to know...   \n",
       "...                                                   ...   \n",
       "868956  lily hasn8217t had the easiest life adopted at...   \n",
       "243693  634 pm i can hear the dogs scratching at the d...   \n",
       "947574  somehow author stephen knight manages to pack ...   \n",
       "20977   there seems to be a lot of mixed reviews on th...   \n",
       "140838  twice in a lifetimetwentyeight year old old is...   \n",
       "\n",
       "                                     reviewText_stopwords  \\\n",
       "398184  couldnt get enough colin mitchell college jour...   \n",
       "611335  read read first book series although stated in...   \n",
       "978601  book true treasure im verry happy came upon su...   \n",
       "695138  well book one finished anywhere get next one w...   \n",
       "296787  really wish longer want know happened future e...   \n",
       "...                                                   ...   \n",
       "868956  lily hasn8217t easiest life adopted young age ...   \n",
       "243693  634 pm hear dogs scratching door let know arch...   \n",
       "947574  somehow author stephen knight manages pack act...   \n",
       "20977   seems lot mixed reviews short story interested...   \n",
       "140838  twice lifetimetwentyeight year old old isabell...   \n",
       "\n",
       "                                     reviewText_tokenized  \\\n",
       "398184  ['couldnt', 'get', 'enough', 'colin', 'mitchel...   \n",
       "611335  ['read', 'read', 'first', 'book', 'series', 'a...   \n",
       "978601  ['book', 'true', 'treasure', 'im', 'verry', 'h...   \n",
       "695138  ['well', 'book', 'one', 'finished', 'anywhere'...   \n",
       "296787  ['really', 'wish', 'longer', 'want', 'know', '...   \n",
       "...                                                   ...   \n",
       "868956  ['lily', 'hasn8217t', 'easiest', 'life', 'adop...   \n",
       "243693  ['634', 'pm', 'hear', 'dogs', 'scratching', 'd...   \n",
       "947574  ['somehow', 'author', 'stephen', 'knight', 'ma...   \n",
       "20977   ['seems', 'lot', 'mixed', 'reviews', 'short', ...   \n",
       "140838  ['twice', 'lifetimetwentyeight', 'year', 'old'...   \n",
       "\n",
       "                                    reviewText_lemmatized  sentiments  \n",
       "398184  ['couldnt', 'get', 'enough', 'colin', 'mitchel...           1  \n",
       "611335  ['read', 'read', 'first', 'book', 'series', 'a...           1  \n",
       "978601  ['book', 'true', 'treasure', 'im', 'verry', 'h...           1  \n",
       "695138  ['well', 'book', 'one', 'finished', 'anywhere'...           1  \n",
       "296787  ['really', 'wish', 'longer', 'want', 'know', '...           1  \n",
       "...                                                   ...         ...  \n",
       "868956  ['lily', 'hasn8217t', 'easiest', 'life', 'adop...           1  \n",
       "243693  ['634', 'pm', 'hear', 'dog', 'scratching', 'do...           1  \n",
       "947574  ['somehow', 'author', 'stephen', 'knight', 'ma...           1  \n",
       "20977   ['seems', 'lot', 'mixed', 'review', 'short', '...           1  \n",
       "140838  ['twice', 'lifetimetwentyeight', 'year', 'old'...           1  \n",
       "\n",
       "[207430 rows x 15 columns]>"
      ]
     },
     "execution_count": 13,
     "metadata": {},
     "output_type": "execute_result"
    }
   ],
   "source": [
    "positives.count"
   ]
  },
  {
   "cell_type": "code",
   "execution_count": 18,
   "id": "ce0015d7",
   "metadata": {},
   "outputs": [
    {
     "data": {
      "text/html": [
       "<div>\n",
       "<style scoped>\n",
       "    .dataframe tbody tr th:only-of-type {\n",
       "        vertical-align: middle;\n",
       "    }\n",
       "\n",
       "    .dataframe tbody tr th {\n",
       "        vertical-align: top;\n",
       "    }\n",
       "\n",
       "    .dataframe thead th {\n",
       "        text-align: right;\n",
       "    }\n",
       "</style>\n",
       "<table border=\"1\" class=\"dataframe\">\n",
       "  <thead>\n",
       "    <tr style=\"text-align: right;\">\n",
       "      <th></th>\n",
       "      <th></th>\n",
       "      <th>Unnamed: 0</th>\n",
       "      <th>Unnamed: 0.1</th>\n",
       "      <th>asin</th>\n",
       "      <th>helpful</th>\n",
       "      <th>overall</th>\n",
       "      <th>reviewText</th>\n",
       "      <th>reviewTime</th>\n",
       "      <th>reviewerID</th>\n",
       "      <th>reviewerName</th>\n",
       "      <th>unixReviewTime</th>\n",
       "      <th>reviewText_punctuation</th>\n",
       "      <th>reviewText_stopwords</th>\n",
       "      <th>reviewText_tokenized</th>\n",
       "      <th>reviewText_lemmatized</th>\n",
       "      <th>sentiments</th>\n",
       "    </tr>\n",
       "    <tr>\n",
       "      <th>sentiments</th>\n",
       "      <th></th>\n",
       "      <th></th>\n",
       "      <th></th>\n",
       "      <th></th>\n",
       "      <th></th>\n",
       "      <th></th>\n",
       "      <th></th>\n",
       "      <th></th>\n",
       "      <th></th>\n",
       "      <th></th>\n",
       "      <th></th>\n",
       "      <th></th>\n",
       "      <th></th>\n",
       "      <th></th>\n",
       "      <th></th>\n",
       "      <th></th>\n",
       "    </tr>\n",
       "  </thead>\n",
       "  <tbody>\n",
       "    <tr>\n",
       "      <th rowspan=\"5\" valign=\"top\">0</th>\n",
       "      <th>159364</th>\n",
       "      <td>159364</td>\n",
       "      <td>159364</td>\n",
       "      <td>B006RDFDAQ</td>\n",
       "      <td>[0, 0]</td>\n",
       "      <td>3</td>\n",
       "      <td>3 out of 5 stars! this novella is spicy and sw...</td>\n",
       "      <td>03 4, 2012</td>\n",
       "      <td>AJVQTGMBF8PL1</td>\n",
       "      <td>Jess @ From Me to You ... Book Reviews</td>\n",
       "      <td>1330819200</td>\n",
       "      <td>3 out of 5 stars this novella is spicy and swe...</td>\n",
       "      <td>3 5 stars novella spicy sweet hot coupling thr...</td>\n",
       "      <td>['3', '5', 'stars', 'novella', 'spicy', 'sweet...</td>\n",
       "      <td>['3', '5', 'star', 'novella', 'spicy', 'sweet'...</td>\n",
       "      <td>0</td>\n",
       "    </tr>\n",
       "    <tr>\n",
       "      <th>96943</th>\n",
       "      <td>96943</td>\n",
       "      <td>96943</td>\n",
       "      <td>B005G51MDI</td>\n",
       "      <td>[3, 6]</td>\n",
       "      <td>1</td>\n",
       "      <td>would you remember me? this is the question as...</td>\n",
       "      <td>03 17, 2012</td>\n",
       "      <td>AIO247KHD2O40</td>\n",
       "      <td>James N Simpson</td>\n",
       "      <td>1331942400</td>\n",
       "      <td>would you remember me this is the question ask...</td>\n",
       "      <td>would remember question asked title course ans...</td>\n",
       "      <td>['would', 'remember', 'question', 'asked', 'ti...</td>\n",
       "      <td>['would', 'remember', 'question', 'asked', 'ti...</td>\n",
       "      <td>0</td>\n",
       "    </tr>\n",
       "    <tr>\n",
       "      <th>341783</th>\n",
       "      <td>341783</td>\n",
       "      <td>341783</td>\n",
       "      <td>B009ZZVRMG</td>\n",
       "      <td>[0, 0]</td>\n",
       "      <td>3</td>\n",
       "      <td>the author has written a limited audience appe...</td>\n",
       "      <td>09 14, 2013</td>\n",
       "      <td>A2L9TUOE290MT4</td>\n",
       "      <td>Bill Thibadeau</td>\n",
       "      <td>1379116800</td>\n",
       "      <td>the author has written a limited audience appe...</td>\n",
       "      <td>author written limited audience appeal story c...</td>\n",
       "      <td>['author', 'written', 'limited', 'audience', '...</td>\n",
       "      <td>['author', 'written', 'limited', 'audience', '...</td>\n",
       "      <td>0</td>\n",
       "    </tr>\n",
       "    <tr>\n",
       "      <th>682403</th>\n",
       "      <td>682403</td>\n",
       "      <td>682403</td>\n",
       "      <td>B00FUANYH6</td>\n",
       "      <td>[0, 1]</td>\n",
       "      <td>2</td>\n",
       "      <td>i just don't like the side character treated a...</td>\n",
       "      <td>03 21, 2014</td>\n",
       "      <td>A2VHUAB7SS8PCQ</td>\n",
       "      <td>LiveInHoth</td>\n",
       "      <td>1395360000</td>\n",
       "      <td>i just dont like the side character treated as...</td>\n",
       "      <td>dont like side character treated main characte...</td>\n",
       "      <td>['dont', 'like', 'side', 'character', 'treated...</td>\n",
       "      <td>['dont', 'like', 'side', 'character', 'treated...</td>\n",
       "      <td>0</td>\n",
       "    </tr>\n",
       "    <tr>\n",
       "      <th>870422</th>\n",
       "      <td>870422</td>\n",
       "      <td>870422</td>\n",
       "      <td>B00J5DWTJ8</td>\n",
       "      <td>[1, 1]</td>\n",
       "      <td>1</td>\n",
       "      <td>violet, works at the library, reads poetry and...</td>\n",
       "      <td>05 29, 2014</td>\n",
       "      <td>A1FHYFX244DREE</td>\n",
       "      <td>Michelle Lynn Randall</td>\n",
       "      <td>1401321600</td>\n",
       "      <td>violet works at the library reads poetry and d...</td>\n",
       "      <td>violet works library reads poetry dreams perfe...</td>\n",
       "      <td>['violet', 'works', 'library', 'reads', 'poetr...</td>\n",
       "      <td>['violet', 'work', 'library', 'read', 'poetry'...</td>\n",
       "      <td>0</td>\n",
       "    </tr>\n",
       "    <tr>\n",
       "      <th>...</th>\n",
       "      <th>...</th>\n",
       "      <td>...</td>\n",
       "      <td>...</td>\n",
       "      <td>...</td>\n",
       "      <td>...</td>\n",
       "      <td>...</td>\n",
       "      <td>...</td>\n",
       "      <td>...</td>\n",
       "      <td>...</td>\n",
       "      <td>...</td>\n",
       "      <td>...</td>\n",
       "      <td>...</td>\n",
       "      <td>...</td>\n",
       "      <td>...</td>\n",
       "      <td>...</td>\n",
       "      <td>...</td>\n",
       "    </tr>\n",
       "    <tr>\n",
       "      <th rowspan=\"5\" valign=\"top\">1</th>\n",
       "      <th>477106</th>\n",
       "      <td>477106</td>\n",
       "      <td>477106</td>\n",
       "      <td>B00C2REABO</td>\n",
       "      <td>[0, 0]</td>\n",
       "      <td>5</td>\n",
       "      <td>this book was alright it didn't end like i tho...</td>\n",
       "      <td>09 13, 2013</td>\n",
       "      <td>A1Q0PTHF31VLBU</td>\n",
       "      <td>Neisha</td>\n",
       "      <td>1379030400</td>\n",
       "      <td>this book was alright it didnt end like i thou...</td>\n",
       "      <td>book alright didnt end like thought would oh w...</td>\n",
       "      <td>['book', 'alright', 'didnt', 'end', 'like', 't...</td>\n",
       "      <td>['book', 'alright', 'didnt', 'end', 'like', 't...</td>\n",
       "      <td>1</td>\n",
       "    </tr>\n",
       "    <tr>\n",
       "      <th>858254</th>\n",
       "      <td>858254</td>\n",
       "      <td>858254</td>\n",
       "      <td>B00IX9I1WE</td>\n",
       "      <td>[1, 1]</td>\n",
       "      <td>5</td>\n",
       "      <td>the waitress help her and the little sister ! ...</td>\n",
       "      <td>05 11, 2014</td>\n",
       "      <td>A278YO6V8SEBSA</td>\n",
       "      <td>Jennie \"sissy\"</td>\n",
       "      <td>1399766400</td>\n",
       "      <td>the waitress help her and the little sister  t...</td>\n",
       "      <td>waitress help little sister family sicko waitr...</td>\n",
       "      <td>['waitress', 'help', 'little', 'sister', 'fami...</td>\n",
       "      <td>['waitress', 'help', 'little', 'sister', 'fami...</td>\n",
       "      <td>1</td>\n",
       "    </tr>\n",
       "    <tr>\n",
       "      <th>814976</th>\n",
       "      <td>814976</td>\n",
       "      <td>814976</td>\n",
       "      <td>B00I7WFJHC</td>\n",
       "      <td>[1, 2]</td>\n",
       "      <td>5</td>\n",
       "      <td>i really liked the way this book is written. i...</td>\n",
       "      <td>02 14, 2014</td>\n",
       "      <td>A3BQI23E5FQP7I</td>\n",
       "      <td>Jeanie</td>\n",
       "      <td>1392336000</td>\n",
       "      <td>i really liked the way this book is written it...</td>\n",
       "      <td>really liked way book written gave many differ...</td>\n",
       "      <td>['really', 'liked', 'way', 'book', 'written', ...</td>\n",
       "      <td>['really', 'liked', 'way', 'book', 'written', ...</td>\n",
       "      <td>1</td>\n",
       "    </tr>\n",
       "    <tr>\n",
       "      <th>433329</th>\n",
       "      <td>433329</td>\n",
       "      <td>433329</td>\n",
       "      <td>B00BFQ79ZC</td>\n",
       "      <td>[0, 0]</td>\n",
       "      <td>4</td>\n",
       "      <td>great stories!loved both story lines and were ...</td>\n",
       "      <td>07 2, 2013</td>\n",
       "      <td>ASHX33A1334SS</td>\n",
       "      <td>Janie_tx</td>\n",
       "      <td>1372723200</td>\n",
       "      <td>great storiesloved both story lines and were e...</td>\n",
       "      <td>great storiesloved story lines easy follow sto...</td>\n",
       "      <td>['great', 'storiesloved', 'story', 'lines', 'e...</td>\n",
       "      <td>['great', 'storiesloved', 'story', 'line', 'ea...</td>\n",
       "      <td>1</td>\n",
       "    </tr>\n",
       "    <tr>\n",
       "      <th>467919</th>\n",
       "      <td>467919</td>\n",
       "      <td>467919</td>\n",
       "      <td>B00BW9RJS4</td>\n",
       "      <td>[0, 0]</td>\n",
       "      <td>5</td>\n",
       "      <td>i read all the money making mamas and i love t...</td>\n",
       "      <td>03 28, 2013</td>\n",
       "      <td>A1FIX7316UNTX1</td>\n",
       "      <td>Bria Roberts</td>\n",
       "      <td>1364428800</td>\n",
       "      <td>i read all the money making mamas and i love t...</td>\n",
       "      <td>read money making mamas love want part five ka...</td>\n",
       "      <td>['read', 'money', 'making', 'mamas', 'love', '...</td>\n",
       "      <td>['read', 'money', 'making', 'mama', 'love', 'w...</td>\n",
       "      <td>1</td>\n",
       "    </tr>\n",
       "  </tbody>\n",
       "</table>\n",
       "<p>76450 rows × 15 columns</p>\n",
       "</div>"
      ],
      "text/plain": [
       "                   Unnamed: 0  Unnamed: 0.1        asin helpful  overall  \\\n",
       "sentiments                                                                 \n",
       "0          159364      159364        159364  B006RDFDAQ  [0, 0]        3   \n",
       "           96943        96943         96943  B005G51MDI  [3, 6]        1   \n",
       "           341783      341783        341783  B009ZZVRMG  [0, 0]        3   \n",
       "           682403      682403        682403  B00FUANYH6  [0, 1]        2   \n",
       "           870422      870422        870422  B00J5DWTJ8  [1, 1]        1   \n",
       "...                       ...           ...         ...     ...      ...   \n",
       "1          477106      477106        477106  B00C2REABO  [0, 0]        5   \n",
       "           858254      858254        858254  B00IX9I1WE  [1, 1]        5   \n",
       "           814976      814976        814976  B00I7WFJHC  [1, 2]        5   \n",
       "           433329      433329        433329  B00BFQ79ZC  [0, 0]        4   \n",
       "           467919      467919        467919  B00BW9RJS4  [0, 0]        5   \n",
       "\n",
       "                                                          reviewText  \\\n",
       "sentiments                                                             \n",
       "0          159364  3 out of 5 stars! this novella is spicy and sw...   \n",
       "           96943   would you remember me? this is the question as...   \n",
       "           341783  the author has written a limited audience appe...   \n",
       "           682403  i just don't like the side character treated a...   \n",
       "           870422  violet, works at the library, reads poetry and...   \n",
       "...                                                              ...   \n",
       "1          477106  this book was alright it didn't end like i tho...   \n",
       "           858254  the waitress help her and the little sister ! ...   \n",
       "           814976  i really liked the way this book is written. i...   \n",
       "           433329  great stories!loved both story lines and were ...   \n",
       "           467919  i read all the money making mamas and i love t...   \n",
       "\n",
       "                    reviewTime      reviewerID  \\\n",
       "sentiments                                       \n",
       "0          159364   03 4, 2012   AJVQTGMBF8PL1   \n",
       "           96943   03 17, 2012   AIO247KHD2O40   \n",
       "           341783  09 14, 2013  A2L9TUOE290MT4   \n",
       "           682403  03 21, 2014  A2VHUAB7SS8PCQ   \n",
       "           870422  05 29, 2014  A1FHYFX244DREE   \n",
       "...                        ...             ...   \n",
       "1          477106  09 13, 2013  A1Q0PTHF31VLBU   \n",
       "           858254  05 11, 2014  A278YO6V8SEBSA   \n",
       "           814976  02 14, 2014  A3BQI23E5FQP7I   \n",
       "           433329   07 2, 2013   ASHX33A1334SS   \n",
       "           467919  03 28, 2013  A1FIX7316UNTX1   \n",
       "\n",
       "                                             reviewerName  unixReviewTime  \\\n",
       "sentiments                                                                  \n",
       "0          159364  Jess @ From Me to You ... Book Reviews      1330819200   \n",
       "           96943                          James N Simpson      1331942400   \n",
       "           341783                          Bill Thibadeau      1379116800   \n",
       "           682403                              LiveInHoth      1395360000   \n",
       "           870422                   Michelle Lynn Randall      1401321600   \n",
       "...                                                   ...             ...   \n",
       "1          477106                                  Neisha      1379030400   \n",
       "           858254                          Jennie \"sissy\"      1399766400   \n",
       "           814976                                  Jeanie      1392336000   \n",
       "           433329                                Janie_tx      1372723200   \n",
       "           467919                            Bria Roberts      1364428800   \n",
       "\n",
       "                                              reviewText_punctuation  \\\n",
       "sentiments                                                             \n",
       "0          159364  3 out of 5 stars this novella is spicy and swe...   \n",
       "           96943   would you remember me this is the question ask...   \n",
       "           341783  the author has written a limited audience appe...   \n",
       "           682403  i just dont like the side character treated as...   \n",
       "           870422  violet works at the library reads poetry and d...   \n",
       "...                                                              ...   \n",
       "1          477106  this book was alright it didnt end like i thou...   \n",
       "           858254  the waitress help her and the little sister  t...   \n",
       "           814976  i really liked the way this book is written it...   \n",
       "           433329  great storiesloved both story lines and were e...   \n",
       "           467919  i read all the money making mamas and i love t...   \n",
       "\n",
       "                                                reviewText_stopwords  \\\n",
       "sentiments                                                             \n",
       "0          159364  3 5 stars novella spicy sweet hot coupling thr...   \n",
       "           96943   would remember question asked title course ans...   \n",
       "           341783  author written limited audience appeal story c...   \n",
       "           682403  dont like side character treated main characte...   \n",
       "           870422  violet works library reads poetry dreams perfe...   \n",
       "...                                                              ...   \n",
       "1          477106  book alright didnt end like thought would oh w...   \n",
       "           858254  waitress help little sister family sicko waitr...   \n",
       "           814976  really liked way book written gave many differ...   \n",
       "           433329  great storiesloved story lines easy follow sto...   \n",
       "           467919  read money making mamas love want part five ka...   \n",
       "\n",
       "                                                reviewText_tokenized  \\\n",
       "sentiments                                                             \n",
       "0          159364  ['3', '5', 'stars', 'novella', 'spicy', 'sweet...   \n",
       "           96943   ['would', 'remember', 'question', 'asked', 'ti...   \n",
       "           341783  ['author', 'written', 'limited', 'audience', '...   \n",
       "           682403  ['dont', 'like', 'side', 'character', 'treated...   \n",
       "           870422  ['violet', 'works', 'library', 'reads', 'poetr...   \n",
       "...                                                              ...   \n",
       "1          477106  ['book', 'alright', 'didnt', 'end', 'like', 't...   \n",
       "           858254  ['waitress', 'help', 'little', 'sister', 'fami...   \n",
       "           814976  ['really', 'liked', 'way', 'book', 'written', ...   \n",
       "           433329  ['great', 'storiesloved', 'story', 'lines', 'e...   \n",
       "           467919  ['read', 'money', 'making', 'mamas', 'love', '...   \n",
       "\n",
       "                                               reviewText_lemmatized  \\\n",
       "sentiments                                                             \n",
       "0          159364  ['3', '5', 'star', 'novella', 'spicy', 'sweet'...   \n",
       "           96943   ['would', 'remember', 'question', 'asked', 'ti...   \n",
       "           341783  ['author', 'written', 'limited', 'audience', '...   \n",
       "           682403  ['dont', 'like', 'side', 'character', 'treated...   \n",
       "           870422  ['violet', 'work', 'library', 'read', 'poetry'...   \n",
       "...                                                              ...   \n",
       "1          477106  ['book', 'alright', 'didnt', 'end', 'like', 't...   \n",
       "           858254  ['waitress', 'help', 'little', 'sister', 'fami...   \n",
       "           814976  ['really', 'liked', 'way', 'book', 'written', ...   \n",
       "           433329  ['great', 'storiesloved', 'story', 'line', 'ea...   \n",
       "           467919  ['read', 'money', 'making', 'mama', 'love', 'w...   \n",
       "\n",
       "                   sentiments  \n",
       "sentiments                     \n",
       "0          159364           0  \n",
       "           96943            0  \n",
       "           341783           0  \n",
       "           682403           0  \n",
       "           870422           0  \n",
       "...                       ...  \n",
       "1          477106           1  \n",
       "           858254           1  \n",
       "           814976           1  \n",
       "           433329           1  \n",
       "           467919           1  \n",
       "\n",
       "[76450 rows x 15 columns]"
      ]
     },
     "execution_count": 18,
     "metadata": {},
     "output_type": "execute_result"
    }
   ],
   "source": [
    "g = dfsample.groupby('sentiments')\n",
    "g.apply(lambda x: x.sample(g.size().min()))"
   ]
  },
  {
   "cell_type": "code",
   "execution_count": 19,
   "id": "91d1a597",
   "metadata": {},
   "outputs": [
    {
     "data": {
      "text/plain": [
       "<bound method DataFrame.count of         Unnamed: 0  Unnamed: 0.1        asin helpful  overall  \\\n",
       "398184      398184        398184  B00AWGED8W  [2, 4]        5   \n",
       "611335      611335        611335  B00EDYFZVS  [0, 0]        4   \n",
       "978601      978601        978601  B00LLXRJR2  [1, 1]        5   \n",
       "695138      695138        695138  B00G4LJE74  [0, 0]        5   \n",
       "296787      296787        296787  B0095VONZS  [0, 0]        4   \n",
       "...            ...           ...         ...     ...      ...   \n",
       "170431      170431        170431  B0071NP2D4  [0, 0]        5   \n",
       "188274      188274        188274  B007GSO4XS  [0, 0]        5   \n",
       "829862      829862        829862  B00IGCTI4I  [1, 2]        5   \n",
       "361132      361132        361132  B00AD9J414  [4, 4]        4   \n",
       "172443      172443        172443  B0073H86H2  [0, 0]        5   \n",
       "\n",
       "                                               reviewText   reviewTime  \\\n",
       "398184  i couldn't get enough of colin mitchell, a col...  04 21, 2014   \n",
       "611335  i read this after i read the first book in the...   02 4, 2014   \n",
       "978601  this book is a true treasure! i'm verry happy ...  07 11, 2014   \n",
       "695138  well, book one is finished and i am not anywhe...  01 17, 2014   \n",
       "296787  i really wish it was was longer. i want to kno...  03 15, 2013   \n",
       "...                                                   ...          ...   \n",
       "170431  i have read all of rusty's bigfoot collections...  01 14, 2014   \n",
       "188274  there are only a few books which can bring tea...  08 29, 2013   \n",
       "829862  i gave this a 5 star and would recommend this ...  03 26, 2014   \n",
       "361132  arc provided by the authorthe-adonis is a shor...   12 4, 2012   \n",
       "172443  cute story! such fun twists on the original fa...  10 27, 2013   \n",
       "\n",
       "            reviewerID                     reviewerName  unixReviewTime  \\\n",
       "398184   A14QRGY3FE7ZB                  DEBORAH SANCHEZ      1398038400   \n",
       "611335   AOCP5SS7DFB09                        Christean      1391472000   \n",
       "978601  A3JEUMETWH447K                         Kostadin      1405036800   \n",
       "695138  A1H4K2FVKAM4V6                  David L Coffing      1389916800   \n",
       "296787   AHMJQ66XNCOJI              maigen marie miller      1363305600   \n",
       "...                ...                              ...             ...   \n",
       "170431  A3EPXV10AZ216G                  Amazon Customer      1389657600   \n",
       "188274  A1HWL6QO0KD01G                              NaN      1377734400   \n",
       "829862  A2EKQ43XM1BK2Y                       farmergirl      1395792000   \n",
       "361132   ABUMPJ5RJ4GJ1                     Kat McCarthy      1354579200   \n",
       "172443   AOAAX92CVVC1M  Ashley Elizabeth Blair Tetzlaff      1382832000   \n",
       "\n",
       "                                   reviewText_punctuation  \\\n",
       "398184  i couldnt get enough of colin mitchell a colle...   \n",
       "611335  i read this after i read the first book in the...   \n",
       "978601  this book is a true treasure im verry happy i ...   \n",
       "695138  well book one is finished and i am not anywher...   \n",
       "296787  i really wish it was was longer i want to know...   \n",
       "...                                                   ...   \n",
       "170431  i have read all of rustys bigfoot collections ...   \n",
       "188274  there are only a few books which can bring tea...   \n",
       "829862  i gave this a 5 star and would recommend this ...   \n",
       "361132  arc provided by the authortheadonis is a short...   \n",
       "172443  cute story such fun twists on the original fai...   \n",
       "\n",
       "                                     reviewText_stopwords  \\\n",
       "398184  couldnt get enough colin mitchell college jour...   \n",
       "611335  read read first book series although stated in...   \n",
       "978601  book true treasure im verry happy came upon su...   \n",
       "695138  well book one finished anywhere get next one w...   \n",
       "296787  really wish longer want know happened future e...   \n",
       "...                                                   ...   \n",
       "170431  read rustys bigfoot collections never disappoi...   \n",
       "188274  books bring tears eyes one ending everything r...   \n",
       "829862  gave 5 star would recommend book anyone loves ...   \n",
       "361132  arc provided authortheadonis short story reall...   \n",
       "172443  cute story fun twists original fairy tale made...   \n",
       "\n",
       "                                     reviewText_tokenized  \\\n",
       "398184  ['couldnt', 'get', 'enough', 'colin', 'mitchel...   \n",
       "611335  ['read', 'read', 'first', 'book', 'series', 'a...   \n",
       "978601  ['book', 'true', 'treasure', 'im', 'verry', 'h...   \n",
       "695138  ['well', 'book', 'one', 'finished', 'anywhere'...   \n",
       "296787  ['really', 'wish', 'longer', 'want', 'know', '...   \n",
       "...                                                   ...   \n",
       "170431  ['read', 'rustys', 'bigfoot', 'collections', '...   \n",
       "188274  ['books', 'bring', 'tears', 'eyes', 'one', 'en...   \n",
       "829862  ['gave', '5', 'star', 'would', 'recommend', 'b...   \n",
       "361132  ['arc', 'provided', 'authortheadonis', 'short'...   \n",
       "172443  ['cute', 'story', 'fun', 'twists', 'original',...   \n",
       "\n",
       "                                    reviewText_lemmatized  sentiments  \n",
       "398184  ['couldnt', 'get', 'enough', 'colin', 'mitchel...           1  \n",
       "611335  ['read', 'read', 'first', 'book', 'series', 'a...           1  \n",
       "978601  ['book', 'true', 'treasure', 'im', 'verry', 'h...           1  \n",
       "695138  ['well', 'book', 'one', 'finished', 'anywhere'...           1  \n",
       "296787  ['really', 'wish', 'longer', 'want', 'know', '...           1  \n",
       "...                                                   ...         ...  \n",
       "170431  ['read', 'rustys', 'bigfoot', 'collection', 'n...           1  \n",
       "188274  ['book', 'bring', 'tear', 'eye', 'one', 'endin...           1  \n",
       "829862  ['gave', '5', 'star', 'would', 'recommend', 'b...           1  \n",
       "361132  ['arc', 'provided', 'authortheadonis', 'short'...           1  \n",
       "172443  ['cute', 'story', 'fun', 'twist', 'original', ...           1  \n",
       "\n",
       "[38225 rows x 15 columns]>"
      ]
     },
     "execution_count": 19,
     "metadata": {},
     "output_type": "execute_result"
    }
   ],
   "source": [
    "positives.count"
   ]
  },
  {
   "cell_type": "code",
   "execution_count": 20,
   "id": "be2957ae",
   "metadata": {},
   "outputs": [
    {
     "data": {
      "image/png": "[encoded data removed]",
      "text/plain": [
       "<Figure size 720x432 with 1 Axes>"
      ]
     },
     "metadata": {
      "needs_background": "light"
     },
     "output_type": "display_data"
    }
   ],
   "source": [
    "category_dist = dfsample['sentiments'].value_counts()\n",
    "\n",
    "plt.figure(figsize=(10,6))\n",
    "my_colors = ['g', 'r']\n",
    "category_dist.plot(kind='bar', color=my_colors)\n",
    "plt.grid()\n",
    "plt.xlabel(\"overall\")\n",
    "plt.ylabel(\"Number of Reviews\")\n",
    "plt.title(\"Distribution of Reviews\")\n",
    "plt.show()"
   ]
  },
  {
   "cell_type": "code",
   "execution_count": 21,
   "id": "0922d0f5",
   "metadata": {},
   "outputs": [
    {
     "data": {
      "text/plain": [
       "Unnamed: 0                 int64\n",
       "Unnamed: 0.1               int64\n",
       "asin                      object\n",
       "helpful                   object\n",
       "overall                    int64\n",
       "reviewText                object\n",
       "reviewTime                object\n",
       "reviewerID                object\n",
       "reviewerName              object\n",
       "unixReviewTime             int64\n",
       "reviewText_punctuation    object\n",
       "reviewText_stopwords      object\n",
       "reviewText_tokenized      object\n",
       "reviewText_lemmatized     object\n",
       "sentiments                 int64\n",
       "dtype: object"
      ]
     },
     "execution_count": 21,
     "metadata": {},
     "output_type": "execute_result"
    }
   ],
   "source": [
    "dfsample.dtypes"
   ]
  },
  {
   "cell_type": "code",
   "execution_count": 22,
   "id": "0e6e9299",
   "metadata": {},
   "outputs": [],
   "source": [
    "#Separating input feature and label\n",
    "X = dfsample['reviewText_lemmatized']\n",
    "y = dfsample['sentiments']"
   ]
  },
  {
   "cell_type": "code",
   "execution_count": 23,
   "id": "f3631c84",
   "metadata": {},
   "outputs": [],
   "source": [
    "# Separating the 85% data for training data and 15% for testing data\n",
    "X_train, X_test, y_train, y_test = train_test_split(X,y,test_size = 0.15, random_state =26105111)"
   ]
  },
  {
   "cell_type": "code",
   "execution_count": 24,
   "id": "08fdf76a",
   "metadata": {},
   "outputs": [],
   "source": [
    "#Transforming Dataset using TF-IDF Vectorizer"
   ]
  },
  {
   "cell_type": "code",
   "execution_count": 25,
   "id": "a02e226e",
   "metadata": {},
   "outputs": [
    {
     "name": "stdout",
     "output_type": "stream",
     "text": [
      "No. of feature_words:  500000\n"
     ]
    }
   ],
   "source": [
    "#Fit the TF-IDF Vectorizer\n",
    "vectorizer = TfidfVectorizer(ngram_range=(1,2), max_features=500000)\n",
    "vectorizer.fit(X_train)\n",
    "print('No. of feature_words: ', len(vectorizer.get_feature_names()))"
   ]
  },
  {
   "cell_type": "code",
   "execution_count": 26,
   "id": "e1e62392",
   "metadata": {},
   "outputs": [],
   "source": [
    "#Transform the data using TF-IDF Vectorizer\n",
    "X_train = vectorizer.transform(X_train)\n",
    "X_test  = vectorizer.transform(X_test)"
   ]
  },
  {
   "cell_type": "code",
   "execution_count": 27,
   "id": "3f5398d7",
   "metadata": {},
   "outputs": [],
   "source": [
    "#Function For Model Evaluation (Accuracy Score, Confusion Matrix with Plot, ROC-AUC Curve)\n",
    "def model_Evaluate(model):\n",
    "# Predict values for Test dataset\n",
    "    y_pred = model.predict(X_test)\n",
    "# Print the evaluation metrics for the dataset.\n",
    "    print(classification_report(y_test, y_pred))\n",
    "# Compute and plot the Confusion matrix\n",
    "    cf_matrix = confusion_matrix(y_test, y_pred)\n",
    "    categories = ['Negative','Positive']\n",
    "    group_names = ['True Neg','False Pos', 'False Neg','True Pos']\n",
    "    group_percentages = ['{0:.2%}'.format(value) for value in cf_matrix.flatten() / np.sum(cf_matrix)]\n",
    "    labels = [f'{v1}n{v2}' for v1, v2 in zip(group_names,group_percentages)]\n",
    "    labels = np.asarray(labels).reshape(2,2)\n",
    "    sns.heatmap(cf_matrix, annot = labels, cmap = 'Blues',fmt = '',\n",
    "    xticklabels = categories, yticklabels = categories)\n",
    "    plt.xlabel(\"Predicted values\", fontdict = {'size':14}, labelpad = 10)\n",
    "    plt.ylabel(\"Actual values\" , fontdict = {'size':14}, labelpad = 10)\n",
    "    plt.title (\"Confusion Matrix\", fontdict = {'size':18}, pad = 20)"
   ]
  },
  {
   "cell_type": "code",
   "execution_count": 28,
   "id": "695d6738",
   "metadata": {},
   "outputs": [],
   "source": [
    "#Model Building\n",
    "#Bernoulli Naive Bayes, SVM (Support Vector Machine), Logistic Regression"
   ]
  },
  {
   "cell_type": "code",
   "execution_count": 29,
   "id": "d1c79dcf",
   "metadata": {},
   "outputs": [],
   "source": [
    "#Model 1"
   ]
  },
  {
   "cell_type": "code",
   "execution_count": 30,
   "id": "d0b5bbfb",
   "metadata": {},
   "outputs": [
    {
     "name": "stdout",
     "output_type": "stream",
     "text": [
      "              precision    recall  f1-score   support\n",
      "\n",
      "           0       0.86      0.85      0.85      5703\n",
      "           1       0.85      0.86      0.86      5765\n",
      "\n",
      "    accuracy                           0.86     11468\n",
      "   macro avg       0.86      0.86      0.86     11468\n",
      "weighted avg       0.86      0.86      0.86     11468\n",
      "\n"
     ]
    },
    {
     "data": {
      "image/png": "[encoded data removed]",
      "text/plain": [
       "<Figure size 432x288 with 2 Axes>"
      ]
     },
     "metadata": {
      "needs_background": "light"
     },
     "output_type": "display_data"
    }
   ],
   "source": [
    "#Bernoulli\n",
    "BNBmodel = BernoulliNB()\n",
    "BNBmodel.fit(X_train, y_train)\n",
    "model_Evaluate(BNBmodel)\n",
    "y_pred1 = BNBmodel.predict(X_test)"
   ]
  },
  {
   "cell_type": "code",
   "execution_count": 31,
   "id": "33969567",
   "metadata": {},
   "outputs": [
    {
     "data": {
      "image/png": "[encoded data removed]",
      "text/plain": [
       "<Figure size 432x288 with 1 Axes>"
      ]
     },
     "metadata": {
      "needs_background": "light"
     },
     "output_type": "display_data"
    }
   ],
   "source": [
    "#Plot the ROC-AUC Curve for Bernoulli Naive Bayes Model\n",
    "from sklearn.metrics import roc_curve, auc\n",
    "fpr, tpr, thresholds = roc_curve(y_test, y_pred1)\n",
    "roc_auc = auc(fpr, tpr)\n",
    "plt.figure()\n",
    "plt.plot(fpr, tpr, color='darkorange', lw=1, label='ROC curve (area = %0.2f)' % roc_auc)\n",
    "plt.xlim([0.0, 1.0])\n",
    "plt.ylim([0.0, 1.05])\n",
    "plt.xlabel('False Positive Rate')\n",
    "plt.ylabel('True Positive Rate')\n",
    "plt.title('ROC CURVE')\n",
    "plt.legend(loc=\"lower right\")\n",
    "plt.show()"
   ]
  },
  {
   "cell_type": "code",
   "execution_count": 32,
   "id": "2496c502",
   "metadata": {},
   "outputs": [],
   "source": [
    "#Model 2"
   ]
  },
  {
   "cell_type": "code",
   "execution_count": 33,
   "id": "cbaeb47f",
   "metadata": {},
   "outputs": [
    {
     "name": "stdout",
     "output_type": "stream",
     "text": [
      "              precision    recall  f1-score   support\n",
      "\n",
      "           0       0.86      0.84      0.85      5703\n",
      "           1       0.85      0.86      0.86      5765\n",
      "\n",
      "    accuracy                           0.85     11468\n",
      "   macro avg       0.85      0.85      0.85     11468\n",
      "weighted avg       0.85      0.85      0.85     11468\n",
      "\n"
     ]
    },
    {
     "data": {
      "image/png": "[encoded data removed]",
      "text/plain": [
       "<Figure size 432x288 with 2 Axes>"
      ]
     },
     "metadata": {
      "needs_background": "light"
     },
     "output_type": "display_data"
    }
   ],
   "source": [
    "#SVC\n",
    "SVCmodel = LinearSVC()\n",
    "SVCmodel.fit(X_train, y_train)\n",
    "model_Evaluate(SVCmodel)\n",
    "y_pred2 = SVCmodel.predict(X_test)"
   ]
  },
  {
   "cell_type": "code",
   "execution_count": 34,
   "id": "3f49ff3b",
   "metadata": {},
   "outputs": [
    {
     "data": {
      "image/png": "[encoded data removed]",
      "text/plain": [
       "<Figure size 432x288 with 1 Axes>"
      ]
     },
     "metadata": {
      "needs_background": "light"
     },
     "output_type": "display_data"
    }
   ],
   "source": [
    "#Plot the ROC-AUC Curve for SVM (Support Vector Machine) Model\n",
    "from sklearn.metrics import roc_curve, auc\n",
    "fpr, tpr, thresholds = roc_curve(y_test, y_pred2)\n",
    "roc_auc = auc(fpr, tpr)\n",
    "plt.figure()\n",
    "plt.plot(fpr, tpr, color='darkorange', lw=1, label='ROC curve (area = %0.2f)' % roc_auc)\n",
    "plt.xlim([0.0, 1.0])\n",
    "plt.ylim([0.0, 1.05])\n",
    "plt.xlabel('False Positive Rate')\n",
    "plt.ylabel('True Positive Rate')\n",
    "plt.title('ROC CURVE')\n",
    "plt.legend(loc=\"lower right\")\n",
    "plt.show()"
   ]
  },
  {
   "cell_type": "code",
   "execution_count": 35,
   "id": "5459e992",
   "metadata": {},
   "outputs": [],
   "source": [
    "#Model 3"
   ]
  },
  {
   "cell_type": "code",
   "execution_count": 36,
   "id": "e8017ed9",
   "metadata": {},
   "outputs": [
    {
     "name": "stdout",
     "output_type": "stream",
     "text": [
      "              precision    recall  f1-score   support\n",
      "\n",
      "           0       0.86      0.85      0.86      5703\n",
      "           1       0.86      0.87      0.86      5765\n",
      "\n",
      "    accuracy                           0.86     11468\n",
      "   macro avg       0.86      0.86      0.86     11468\n",
      "weighted avg       0.86      0.86      0.86     11468\n",
      "\n"
     ]
    },
    {
     "data": {
      "image/png": "[encoded data removed]",
      "text/plain": [
       "<Figure size 432x288 with 2 Axes>"
      ]
     },
     "metadata": {
      "needs_background": "light"
     },
     "output_type": "display_data"
    }
   ],
   "source": [
    "#Logistic Regression\n",
    "LRmodel = LogisticRegression(C = 2, max_iter = 1000, n_jobs=-1)\n",
    "LRmodel.fit(X_train, y_train)\n",
    "model_Evaluate(LRmodel)\n",
    "y_pred3 = LRmodel.predict(X_test)"
   ]
  },
  {
   "cell_type": "code",
   "execution_count": 37,
   "id": "eb8cde9e",
   "metadata": {},
   "outputs": [
    {
     "data": {
      "image/png": "[encoded data removed]",
      "text/plain": [
       "<Figure size 432x288 with 1 Axes>"
      ]
     },
     "metadata": {
      "needs_background": "light"
     },
     "output_type": "display_data"
    }
   ],
   "source": [
    "#Plot the ROC-AUC Curve for Logistic Regression Model\n",
    "from sklearn.metrics import roc_curve, auc\n",
    "fpr, tpr, thresholds = roc_curve(y_test, y_pred3)\n",
    "roc_auc = auc(fpr, tpr)\n",
    "plt.figure()\n",
    "plt.plot(fpr, tpr, color='darkorange', lw=1, label='ROC curve (area = %0.2f)' % roc_auc)\n",
    "plt.xlim([0.0, 1.0])\n",
    "plt.ylim([0.0, 1.05])\n",
    "plt.xlabel('False Positive Rate')\n",
    "plt.ylabel('True Positive Rate')\n",
    "plt.title('ROC CURVE')\n",
    "plt.legend(loc=\"lower right\")\n",
    "plt.show()"
   ]
  },
  {
   "cell_type": "code",
   "execution_count": null,
   "id": "208baf7a",
   "metadata": {},
   "outputs": [],
   "source": []
  }
 ],
 "metadata": {
  "kernelspec": {
   "display_name": "Python 3 (ipykernel)",
   "language": "python",
   "name": "python3"
  },
  "language_info": {
   "codemirror_mode": {
    "name": "ipython",
    "version": 3
   },
   "file_extension": ".py",
   "mimetype": "text/x-python",
   "name": "python",
   "nbconvert_exporter": "python",
   "pygments_lexer": "ipython3",
   "version": "3.9.7"
  }
 },
 "nbformat": 4,
 "nbformat_minor": 5
}
