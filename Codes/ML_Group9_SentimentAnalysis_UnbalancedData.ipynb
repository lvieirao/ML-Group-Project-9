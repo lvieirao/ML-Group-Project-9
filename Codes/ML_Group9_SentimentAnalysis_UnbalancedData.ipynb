{
 "cells": [
  {
   "cell_type": "code",
   "execution_count": 1,
   "id": "67142f0c",
   "metadata": {},
   "outputs": [],
   "source": [
    "import re\n",
    "import numpy as np\n",
    "import pandas as pd\n",
    "# plotting\n",
    "import seaborn as sns\n",
    "\n",
    "import matplotlib.pyplot as plt\n",
    "# nltk\n",
    "from nltk.stem import WordNetLemmatizer\n",
    "# sklearn\n",
    "from sklearn.svm import LinearSVC\n",
    "from sklearn.naive_bayes import BernoulliNB\n",
    "from sklearn.linear_model import LogisticRegression\n",
    "from sklearn.model_selection import train_test_split\n",
    "from sklearn.feature_extraction.text import TfidfVectorizer\n",
    "from sklearn.metrics import confusion_matrix, classification_report\n"
   ]
  },
  {
   "cell_type": "code",
   "execution_count": 2,
   "id": "dc4501f5",
   "metadata": {
    "scrolled": true
   },
   "outputs": [
    {
     "data": {
      "text/html": [
       "<div>\n",
       "<style scoped>\n",
       "    .dataframe tbody tr th:only-of-type {\n",
       "        vertical-align: middle;\n",
       "    }\n",
       "\n",
       "    .dataframe tbody tr th {\n",
       "        vertical-align: top;\n",
       "    }\n",
       "\n",
       "    .dataframe thead th {\n",
       "        text-align: right;\n",
       "    }\n",
       "</style>\n",
       "<table border=\"1\" class=\"dataframe\">\n",
       "  <thead>\n",
       "    <tr style=\"text-align: right;\">\n",
       "      <th></th>\n",
       "      <th>Unnamed: 0</th>\n",
       "      <th>Unnamed: 0.1</th>\n",
       "      <th>asin</th>\n",
       "      <th>helpful</th>\n",
       "      <th>overall</th>\n",
       "      <th>reviewText</th>\n",
       "      <th>reviewTime</th>\n",
       "      <th>reviewerID</th>\n",
       "      <th>reviewerName</th>\n",
       "      <th>unixReviewTime</th>\n",
       "      <th>reviewText_punctuation</th>\n",
       "      <th>reviewText_stopwords</th>\n",
       "      <th>reviewText_tokenized</th>\n",
       "      <th>reviewText_lemmatized</th>\n",
       "    </tr>\n",
       "  </thead>\n",
       "  <tbody>\n",
       "    <tr>\n",
       "      <th>0</th>\n",
       "      <td>0</td>\n",
       "      <td>0</td>\n",
       "      <td>B000F83SZQ</td>\n",
       "      <td>[0, 0]</td>\n",
       "      <td>5</td>\n",
       "      <td>i enjoy vintage books and movies so i enjoyed ...</td>\n",
       "      <td>05 5, 2014</td>\n",
       "      <td>A1F6404F1VG29J</td>\n",
       "      <td>Avidreader</td>\n",
       "      <td>1399248000</td>\n",
       "      <td>i enjoy vintage books and movies so i enjoyed ...</td>\n",
       "      <td>enjoy vintage books movies enjoyed reading boo...</td>\n",
       "      <td>['enjoy', 'vintage', 'books', 'movies', 'enjoy...</td>\n",
       "      <td>['enjoy', 'vintage', 'book', 'movie', 'enjoyed...</td>\n",
       "    </tr>\n",
       "    <tr>\n",
       "      <th>1</th>\n",
       "      <td>1</td>\n",
       "      <td>1</td>\n",
       "      <td>B000F83SZQ</td>\n",
       "      <td>[2, 2]</td>\n",
       "      <td>4</td>\n",
       "      <td>this book is a reissue of an old one; the auth...</td>\n",
       "      <td>01 6, 2014</td>\n",
       "      <td>AN0N05A9LIJEQ</td>\n",
       "      <td>critters</td>\n",
       "      <td>1388966400</td>\n",
       "      <td>this book is a reissue of an old one the autho...</td>\n",
       "      <td>book reissue old one author born 1910 era say ...</td>\n",
       "      <td>['book', 'reissue', 'old', 'one', 'author', 'b...</td>\n",
       "      <td>['book', 'reissue', 'old', 'one', 'author', 'b...</td>\n",
       "    </tr>\n",
       "    <tr>\n",
       "      <th>2</th>\n",
       "      <td>2</td>\n",
       "      <td>2</td>\n",
       "      <td>B000F83SZQ</td>\n",
       "      <td>[2, 2]</td>\n",
       "      <td>4</td>\n",
       "      <td>this was a fairly interesting read. it had old...</td>\n",
       "      <td>04 4, 2014</td>\n",
       "      <td>A795DMNCJILA6</td>\n",
       "      <td>dot</td>\n",
       "      <td>1396569600</td>\n",
       "      <td>this was a fairly interesting read it had old ...</td>\n",
       "      <td>fairly interesting read old style terminologyi...</td>\n",
       "      <td>['fairly', 'interesting', 'read', 'old', 'styl...</td>\n",
       "      <td>['fairly', 'interesting', 'read', 'old', 'styl...</td>\n",
       "    </tr>\n",
       "    <tr>\n",
       "      <th>3</th>\n",
       "      <td>3</td>\n",
       "      <td>3</td>\n",
       "      <td>B000F83SZQ</td>\n",
       "      <td>[1, 1]</td>\n",
       "      <td>5</td>\n",
       "      <td>i'd never read any of the amy brewster mysteri...</td>\n",
       "      <td>02 19, 2014</td>\n",
       "      <td>A1FV0SX13TWVXQ</td>\n",
       "      <td>Elaine H. Turley \"Montana Songbird\"</td>\n",
       "      <td>1392768000</td>\n",
       "      <td>id never read any of the amy brewster mysterie...</td>\n",
       "      <td>id never read amy brewster mysteries one reall...</td>\n",
       "      <td>['id', 'never', 'read', 'amy', 'brewster', 'my...</td>\n",
       "      <td>['id', 'never', 'read', 'amy', 'brewster', 'my...</td>\n",
       "    </tr>\n",
       "    <tr>\n",
       "      <th>4</th>\n",
       "      <td>4</td>\n",
       "      <td>4</td>\n",
       "      <td>B000F83SZQ</td>\n",
       "      <td>[0, 1]</td>\n",
       "      <td>4</td>\n",
       "      <td>if you like period pieces - clothing, lingo, y...</td>\n",
       "      <td>03 19, 2014</td>\n",
       "      <td>A3SPTOKDG7WBLN</td>\n",
       "      <td>Father Dowling Fan</td>\n",
       "      <td>1395187200</td>\n",
       "      <td>if you like period pieces  clothing lingo you ...</td>\n",
       "      <td>like period pieces clothing lingo enjoy myster...</td>\n",
       "      <td>['like', 'period', 'pieces', 'clothing', 'ling...</td>\n",
       "      <td>['like', 'period', 'piece', 'clothing', 'lingo...</td>\n",
       "    </tr>\n",
       "  </tbody>\n",
       "</table>\n",
       "</div>"
      ],
      "text/plain": [
       "   Unnamed: 0  Unnamed: 0.1        asin helpful  overall  \\\n",
       "0           0             0  B000F83SZQ  [0, 0]        5   \n",
       "1           1             1  B000F83SZQ  [2, 2]        4   \n",
       "2           2             2  B000F83SZQ  [2, 2]        4   \n",
       "3           3             3  B000F83SZQ  [1, 1]        5   \n",
       "4           4             4  B000F83SZQ  [0, 1]        4   \n",
       "\n",
       "                                          reviewText   reviewTime  \\\n",
       "0  i enjoy vintage books and movies so i enjoyed ...   05 5, 2014   \n",
       "1  this book is a reissue of an old one; the auth...   01 6, 2014   \n",
       "2  this was a fairly interesting read. it had old...   04 4, 2014   \n",
       "3  i'd never read any of the amy brewster mysteri...  02 19, 2014   \n",
       "4  if you like period pieces - clothing, lingo, y...  03 19, 2014   \n",
       "\n",
       "       reviewerID                         reviewerName  unixReviewTime  \\\n",
       "0  A1F6404F1VG29J                           Avidreader      1399248000   \n",
       "1   AN0N05A9LIJEQ                             critters      1388966400   \n",
       "2   A795DMNCJILA6                                  dot      1396569600   \n",
       "3  A1FV0SX13TWVXQ  Elaine H. Turley \"Montana Songbird\"      1392768000   \n",
       "4  A3SPTOKDG7WBLN                   Father Dowling Fan      1395187200   \n",
       "\n",
       "                              reviewText_punctuation  \\\n",
       "0  i enjoy vintage books and movies so i enjoyed ...   \n",
       "1  this book is a reissue of an old one the autho...   \n",
       "2  this was a fairly interesting read it had old ...   \n",
       "3  id never read any of the amy brewster mysterie...   \n",
       "4  if you like period pieces  clothing lingo you ...   \n",
       "\n",
       "                                reviewText_stopwords  \\\n",
       "0  enjoy vintage books movies enjoyed reading boo...   \n",
       "1  book reissue old one author born 1910 era say ...   \n",
       "2  fairly interesting read old style terminologyi...   \n",
       "3  id never read amy brewster mysteries one reall...   \n",
       "4  like period pieces clothing lingo enjoy myster...   \n",
       "\n",
       "                                reviewText_tokenized  \\\n",
       "0  ['enjoy', 'vintage', 'books', 'movies', 'enjoy...   \n",
       "1  ['book', 'reissue', 'old', 'one', 'author', 'b...   \n",
       "2  ['fairly', 'interesting', 'read', 'old', 'styl...   \n",
       "3  ['id', 'never', 'read', 'amy', 'brewster', 'my...   \n",
       "4  ['like', 'period', 'pieces', 'clothing', 'ling...   \n",
       "\n",
       "                               reviewText_lemmatized  \n",
       "0  ['enjoy', 'vintage', 'book', 'movie', 'enjoyed...  \n",
       "1  ['book', 'reissue', 'old', 'one', 'author', 'b...  \n",
       "2  ['fairly', 'interesting', 'read', 'old', 'styl...  \n",
       "3  ['id', 'never', 'read', 'amy', 'brewster', 'my...  \n",
       "4  ['like', 'period', 'piece', 'clothing', 'lingo...  "
      ]
     },
     "execution_count": 2,
     "metadata": {},
     "output_type": "execute_result"
    }
   ],
   "source": [
    "df = pd.read_csv(\"Kindle_Reviews_Cleaned.csv\")\n",
    "df.head()"
   ]
  },
  {
   "cell_type": "code",
   "execution_count": 3,
   "id": "5fd92c97",
   "metadata": {},
   "outputs": [],
   "source": [
    "#make column about rating\n",
    "#Adding the sentiments column (rating of 1,2,3 is negative (represented by 0))\n",
    "df['sentiments'] = df.overall.apply(lambda x: 0 if x in [1, 2, 3] else 1)"
   ]
  },
  {
   "cell_type": "code",
   "execution_count": 4,
   "id": "c6f31352",
   "metadata": {},
   "outputs": [],
   "source": [
    "#\"taking one fourth data so we can run on our machine easily\"\n",
    "#make a smaller sample\n",
    "np.random.seed(34)\n",
    "dfsample = df.sample(frac = 0.25)"
   ]
  },
  {
   "cell_type": "code",
   "execution_count": 5,
   "id": "fec6cc2d",
   "metadata": {},
   "outputs": [
    {
     "data": {
      "text/plain": [
       "Index(['Unnamed: 0', 'Unnamed: 0.1', 'asin', 'helpful', 'overall',\n",
       "       'reviewText', 'reviewTime', 'reviewerID', 'reviewerName',\n",
       "       'unixReviewTime', 'reviewText_punctuation', 'reviewText_stopwords',\n",
       "       'reviewText_tokenized', 'reviewText_lemmatized', 'sentiments'],\n",
       "      dtype='object')"
      ]
     },
     "execution_count": 5,
     "metadata": {},
     "output_type": "execute_result"
    }
   ],
   "source": [
    "dfsample.columns"
   ]
  },
  {
   "cell_type": "code",
   "execution_count": 6,
   "id": "35c02e3c",
   "metadata": {},
   "outputs": [
    {
     "data": {
      "text/plain": [
       "(245655, 15)"
      ]
     },
     "execution_count": 6,
     "metadata": {},
     "output_type": "execute_result"
    }
   ],
   "source": [
    "dfsample. shape"
   ]
  },
  {
   "cell_type": "code",
   "execution_count": 7,
   "id": "904f0315",
   "metadata": {},
   "outputs": [
    {
     "name": "stdout",
     "output_type": "stream",
     "text": [
      "<class 'pandas.core.frame.DataFrame'>\n",
      "Int64Index: 245655 entries, 932513 to 140838\n",
      "Data columns (total 15 columns):\n",
      " #   Column                  Non-Null Count   Dtype \n",
      "---  ------                  --------------   ----- \n",
      " 0   Unnamed: 0              245655 non-null  int64 \n",
      " 1   Unnamed: 0.1            245655 non-null  int64 \n",
      " 2   asin                    245655 non-null  object\n",
      " 3   helpful                 245655 non-null  object\n",
      " 4   overall                 245655 non-null  int64 \n",
      " 5   reviewText              245649 non-null  object\n",
      " 6   reviewTime              245655 non-null  object\n",
      " 7   reviewerID              245655 non-null  object\n",
      " 8   reviewerName            244693 non-null  object\n",
      " 9   unixReviewTime          245655 non-null  int64 \n",
      " 10  reviewText_punctuation  245649 non-null  object\n",
      " 11  reviewText_stopwords    245649 non-null  object\n",
      " 12  reviewText_tokenized    245655 non-null  object\n",
      " 13  reviewText_lemmatized   245655 non-null  object\n",
      " 14  sentiments              245655 non-null  int64 \n",
      "dtypes: int64(5), object(10)\n",
      "memory usage: 30.0+ MB\n"
     ]
    }
   ],
   "source": [
    "dfsample.info()"
   ]
  },
  {
   "cell_type": "code",
   "execution_count": 8,
   "id": "1ab8bdd9",
   "metadata": {},
   "outputs": [
    {
     "data": {
      "text/plain": [
       "Unnamed: 0                 int64\n",
       "Unnamed: 0.1               int64\n",
       "asin                      object\n",
       "helpful                   object\n",
       "overall                    int64\n",
       "reviewText                object\n",
       "reviewTime                object\n",
       "reviewerID                object\n",
       "reviewerName              object\n",
       "unixReviewTime             int64\n",
       "reviewText_punctuation    object\n",
       "reviewText_stopwords      object\n",
       "reviewText_tokenized      object\n",
       "reviewText_lemmatized     object\n",
       "sentiments                 int64\n",
       "dtype: object"
      ]
     },
     "execution_count": 8,
     "metadata": {},
     "output_type": "execute_result"
    }
   ],
   "source": [
    "dfsample.dtypes"
   ]
  },
  {
   "cell_type": "code",
   "execution_count": 9,
   "id": "abe1d869",
   "metadata": {},
   "outputs": [
    {
     "data": {
      "text/plain": [
       "968"
      ]
     },
     "execution_count": 9,
     "metadata": {},
     "output_type": "execute_result"
    }
   ],
   "source": [
    "np.sum(dfsample.isnull().any(axis=1))"
   ]
  },
  {
   "cell_type": "code",
   "execution_count": 10,
   "id": "0e6e9299",
   "metadata": {},
   "outputs": [],
   "source": [
    "#Separating input feature and label\n",
    "X = dfsample['reviewText_lemmatized']\n",
    "y = dfsample['sentiments']"
   ]
  },
  {
   "cell_type": "code",
   "execution_count": 11,
   "id": "f3631c84",
   "metadata": {},
   "outputs": [],
   "source": [
    "# Separating the 95% data for training data and 5% for testing data\n",
    "X_train, X_test, y_train, y_test = train_test_split(X,y,test_size = 0.05, random_state =26105111)"
   ]
  },
  {
   "cell_type": "code",
   "execution_count": 12,
   "id": "08fdf76a",
   "metadata": {},
   "outputs": [],
   "source": [
    "#Transforming Dataset using TF-IDF Vectorizer"
   ]
  },
  {
   "cell_type": "code",
   "execution_count": 15,
   "id": "a02e226e",
   "metadata": {},
   "outputs": [
    {
     "name": "stdout",
     "output_type": "stream",
     "text": [
      "No. of feature_words:  500000\n"
     ]
    }
   ],
   "source": [
    "#Fit the TF-IDF Vectorizer\n",
    "vectorizer = TfidfVectorizer(ngram_range=(1,2), max_features=500000)\n",
    "vectorizer.fit(X_train)\n",
    "print('No. of feature_words: ', len(vectorizer.get_feature_names()))"
   ]
  },
  {
   "cell_type": "code",
   "execution_count": 17,
   "id": "e1e62392",
   "metadata": {},
   "outputs": [],
   "source": [
    "#Transform the data using TF-IDF Vectorizer\n",
    "X_train = vectorizer.transform(X_train)\n",
    "X_test  = vectorizer.transform(X_test)"
   ]
  },
  {
   "cell_type": "code",
   "execution_count": 18,
   "id": "3f5398d7",
   "metadata": {},
   "outputs": [],
   "source": [
    "#Function For Model Evaluation (Accuracy Score, Confusion Matrix with Plot, ROC-AUC Curve)\n",
    "def model_Evaluate(model):\n",
    "# Predict values for Test dataset\n",
    "    y_pred = model.predict(X_test)\n",
    "# Print the evaluation metrics for the dataset.\n",
    "    print(classification_report(y_test, y_pred))\n",
    "# Compute and plot the Confusion matrix\n",
    "    cf_matrix = confusion_matrix(y_test, y_pred)\n",
    "    categories = ['Negative','Positive']\n",
    "    group_names = ['True Neg','False Pos', 'False Neg','True Pos']\n",
    "    group_percentages = ['{0:.2%}'.format(value) for value in cf_matrix.flatten() / np.sum(cf_matrix)]\n",
    "    labels = [f'{v1}n{v2}' for v1, v2 in zip(group_names,group_percentages)]\n",
    "    labels = np.asarray(labels).reshape(2,2)\n",
    "    sns.heatmap(cf_matrix, annot = labels, cmap = 'Blues',fmt = '',\n",
    "    xticklabels = categories, yticklabels = categories)\n",
    "    plt.xlabel(\"Predicted values\", fontdict = {'size':14}, labelpad = 10)\n",
    "    plt.ylabel(\"Actual values\" , fontdict = {'size':14}, labelpad = 10)\n",
    "    plt.title (\"Confusion Matrix\", fontdict = {'size':18}, pad = 20)"
   ]
  },
  {
   "cell_type": "code",
   "execution_count": 19,
   "id": "695d6738",
   "metadata": {},
   "outputs": [],
   "source": [
    "#Model Building\n",
    "#Bernoulli Naive Bayes, SVM (Support Vector Machine), Logistic Regression"
   ]
  },
  {
   "cell_type": "code",
   "execution_count": 20,
   "id": "d1c79dcf",
   "metadata": {},
   "outputs": [],
   "source": [
    "#Model 1"
   ]
  },
  {
   "cell_type": "code",
   "execution_count": 21,
   "id": "d0b5bbfb",
   "metadata": {},
   "outputs": [
    {
     "name": "stdout",
     "output_type": "stream",
     "text": [
      "              precision    recall  f1-score   support\n",
      "\n",
      "           0       0.62      0.55      0.59      1924\n",
      "           1       0.92      0.94      0.93     10359\n",
      "\n",
      "    accuracy                           0.88     12283\n",
      "   macro avg       0.77      0.75      0.76     12283\n",
      "weighted avg       0.87      0.88      0.87     12283\n",
      "\n"
     ]
    },
    {
     "data": {
      "image/png": "[encoded data removed]",
      "text/plain": [
       "<Figure size 432x288 with 2 Axes>"
      ]
     },
     "metadata": {
      "needs_background": "light"
     },
     "output_type": "display_data"
    }
   ],
   "source": [
    "#Bernoulli\n",
    "BNBmodel = BernoulliNB()\n",
    "BNBmodel.fit(X_train, y_train)\n",
    "model_Evaluate(BNBmodel)\n",
    "y_pred1 = BNBmodel.predict(X_test)"
   ]
  },
  {
   "cell_type": "code",
   "execution_count": 22,
   "id": "33969567",
   "metadata": {},
   "outputs": [
    {
     "data": {
      "image/png": "[encoded data removed]",
      "text/plain": [
       "<Figure size 432x288 with 1 Axes>"
      ]
     },
     "metadata": {
      "needs_background": "light"
     },
     "output_type": "display_data"
    }
   ],
   "source": [
    "#Plot the ROC-AUC Curve for Bernoulli Naive Bayes Model\n",
    "from sklearn.metrics import roc_curve, auc\n",
    "fpr, tpr, thresholds = roc_curve(y_test, y_pred1)\n",
    "roc_auc = auc(fpr, tpr)\n",
    "plt.figure()\n",
    "plt.plot(fpr, tpr, color='darkorange', lw=1, label='ROC curve (area = %0.2f)' % roc_auc)\n",
    "plt.xlim([0.0, 1.0])\n",
    "plt.ylim([0.0, 1.05])\n",
    "plt.xlabel('False Positive Rate')\n",
    "plt.ylabel('True Positive Rate')\n",
    "plt.title('ROC CURVE')\n",
    "plt.legend(loc=\"lower right\")\n",
    "plt.show()"
   ]
  },
  {
   "cell_type": "code",
   "execution_count": 23,
   "id": "2496c502",
   "metadata": {},
   "outputs": [],
   "source": [
    "#Model 2"
   ]
  },
  {
   "cell_type": "code",
   "execution_count": 24,
   "id": "cbaeb47f",
   "metadata": {},
   "outputs": [
    {
     "name": "stdout",
     "output_type": "stream",
     "text": [
      "              precision    recall  f1-score   support\n",
      "\n",
      "           0       0.80      0.64      0.71      1924\n",
      "           1       0.94      0.97      0.95     10359\n",
      "\n",
      "    accuracy                           0.92     12283\n",
      "   macro avg       0.87      0.80      0.83     12283\n",
      "weighted avg       0.91      0.92      0.91     12283\n",
      "\n"
     ]
    },
    {
     "data": {
      "image/png": "[encoded data removed]",
      "text/plain": [
       "<Figure size 432x288 with 2 Axes>"
      ]
     },
     "metadata": {
      "needs_background": "light"
     },
     "output_type": "display_data"
    }
   ],
   "source": [
    "#SVC\n",
    "SVCmodel = LinearSVC()\n",
    "SVCmodel.fit(X_train, y_train)\n",
    "model_Evaluate(SVCmodel)\n",
    "y_pred2 = SVCmodel.predict(X_test)"
   ]
  },
  {
   "cell_type": "code",
   "execution_count": 25,
   "id": "3f49ff3b",
   "metadata": {},
   "outputs": [
    {
     "data": {
      "image/png": "[encoded data removed]",
      "text/plain": [
       "<Figure size 432x288 with 1 Axes>"
      ]
     },
     "metadata": {
      "needs_background": "light"
     },
     "output_type": "display_data"
    }
   ],
   "source": [
    "#Plot the ROC-AUC Curve for SVM (Support Vector Machine) Model\n",
    "from sklearn.metrics import roc_curve, auc\n",
    "fpr, tpr, thresholds = roc_curve(y_test, y_pred2)\n",
    "roc_auc = auc(fpr, tpr)\n",
    "plt.figure()\n",
    "plt.plot(fpr, tpr, color='darkorange', lw=1, label='ROC curve (area = %0.2f)' % roc_auc)\n",
    "plt.xlim([0.0, 1.0])\n",
    "plt.ylim([0.0, 1.05])\n",
    "plt.xlabel('False Positive Rate')\n",
    "plt.ylabel('True Positive Rate')\n",
    "plt.title('ROC CURVE')\n",
    "plt.legend(loc=\"lower right\")\n",
    "plt.show()"
   ]
  },
  {
   "cell_type": "code",
   "execution_count": 26,
   "id": "5459e992",
   "metadata": {},
   "outputs": [],
   "source": [
    "#Model 3"
   ]
  },
  {
   "cell_type": "code",
   "execution_count": 27,
   "id": "e8017ed9",
   "metadata": {},
   "outputs": [
    {
     "name": "stdout",
     "output_type": "stream",
     "text": [
      "              precision    recall  f1-score   support\n",
      "\n",
      "           0       0.83      0.61      0.70      1924\n",
      "           1       0.93      0.98      0.95     10359\n",
      "\n",
      "    accuracy                           0.92     12283\n",
      "   macro avg       0.88      0.79      0.83     12283\n",
      "weighted avg       0.91      0.92      0.91     12283\n",
      "\n"
     ]
    },
    {
     "data": {
      "image/png": "[encoded data removed]",
      "text/plain": [
       "<Figure size 432x288 with 2 Axes>"
      ]
     },
     "metadata": {
      "needs_background": "light"
     },
     "output_type": "display_data"
    }
   ],
   "source": [
    "#Logistic Regression\n",
    "LRmodel = LogisticRegression(C = 2, max_iter = 1000, n_jobs=-1)\n",
    "LRmodel.fit(X_train, y_train)\n",
    "model_Evaluate(LRmodel)\n",
    "y_pred3 = LRmodel.predict(X_test)"
   ]
  },
  {
   "cell_type": "code",
   "execution_count": 28,
   "id": "eb8cde9e",
   "metadata": {},
   "outputs": [
    {
     "data": {
      "image/png": "[encoded data removed]",
      "text/plain": [
       "<Figure size 432x288 with 1 Axes>"
      ]
     },
     "metadata": {
      "needs_background": "light"
     },
     "output_type": "display_data"
    }
   ],
   "source": [
    "#Plot the ROC-AUC Curve for Logistic Regression Model\n",
    "from sklearn.metrics import roc_curve, auc\n",
    "fpr, tpr, thresholds = roc_curve(y_test, y_pred3)\n",
    "roc_auc = auc(fpr, tpr)\n",
    "plt.figure()\n",
    "plt.plot(fpr, tpr, color='darkorange', lw=1, label='ROC curve (area = %0.2f)' % roc_auc)\n",
    "plt.xlim([0.0, 1.0])\n",
    "plt.ylim([0.0, 1.05])\n",
    "plt.xlabel('False Positive Rate')\n",
    "plt.ylabel('True Positive Rate')\n",
    "plt.title('ROC CURVE')\n",
    "plt.legend(loc=\"lower right\")\n",
    "plt.show()"
   ]
  },
  {
   "cell_type": "code",
   "execution_count": null,
   "id": "208baf7a",
   "metadata": {},
   "outputs": [],
   "source": []
  }
 ],
 "metadata": {
  "kernelspec": {
   "display_name": "Python 3 (ipykernel)",
   "language": "python",
   "name": "python3"
  },
  "language_info": {
   "codemirror_mode": {
    "name": "ipython",
    "version": 3
   },
   "file_extension": ".py",
   "mimetype": "text/x-python",
   "name": "python",
   "nbconvert_exporter": "python",
   "pygments_lexer": "ipython3",
   "version": "3.8.5"
  }
 },
 "nbformat": 4,
 "nbformat_minor": 5
}
